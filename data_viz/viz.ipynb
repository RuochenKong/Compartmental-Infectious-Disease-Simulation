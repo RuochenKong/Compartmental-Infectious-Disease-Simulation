{
 "cells": [
  {
   "metadata": {
    "ExecuteTime": {
     "end_time": "2025-06-11T07:52:39.640680Z",
     "start_time": "2025-06-11T07:52:39.638702Z"
    }
   },
   "cell_type": "code",
   "source": [
    "import pandas as pd\n",
    "import geopandas as gpd\n",
    "import matplotlib.pyplot as plt"
   ],
   "id": "d70dfb015c7ea805",
   "outputs": [],
   "execution_count": 14
  },
  {
   "metadata": {
    "ExecuteTime": {
     "end_time": "2025-06-11T07:52:40.386063Z",
     "start_time": "2025-06-11T07:52:40.016230Z"
    }
   },
   "cell_type": "code",
   "source": "map_df = gpd.read_file('../src_data/us_county_mainland/us_county.shp')",
   "id": "8b1c2e99dfdf4840",
   "outputs": [],
   "execution_count": 15
  },
  {
   "metadata": {
    "ExecuteTime": {
     "end_time": "2025-06-11T07:52:40.391969Z",
     "start_time": "2025-06-11T07:52:40.387199Z"
    }
   },
   "cell_type": "code",
   "source": [
    "data_dir = '../statistical_approach/test/'\n",
    "data_fn = 'simu_%d_region_level.csv'\n",
    "pop_fn = '../src_data/usa_%s_population.csv'\n",
    "data_df = pd.read_csv(data_dir+data_fn%0, dtype={'GeoId':str})"
   ],
   "id": "c90ac08fdb1601dd",
   "outputs": [],
   "execution_count": 16
  },
  {
   "metadata": {
    "ExecuteTime": {
     "end_time": "2025-06-11T07:52:40.754253Z",
     "start_time": "2025-06-11T07:52:40.751891Z"
    }
   },
   "cell_type": "code",
   "source": [
    "len_geoid = len(data_df.loc[0,'GeoId'])\n",
    "if len_geoid == 5:\n",
    "    region_level = 'county'\n",
    "elif len_geoid == 11:\n",
    "    region_level = 'census_tract'\n",
    "else:\n",
    "    region_level = 'cbg'"
   ],
   "id": "adb7ffbaaa63065d",
   "outputs": [],
   "execution_count": 17
  },
  {
   "metadata": {
    "ExecuteTime": {
     "end_time": "2025-06-11T07:52:41.704227Z",
     "start_time": "2025-06-11T07:52:41.698714Z"
    }
   },
   "cell_type": "code",
   "source": [
    "data_df['GeoId'] = data_df['GeoId']\n",
    "data_df['Infected'] = data_df['Infectious'] + data_df['Recovered']\n",
    "data_df = data_df.drop_duplicates(subset=['GeoId','Infected'])\n",
    "data_df = data_df.groupby(['Day','GeoId']).sum().reset_index()"
   ],
   "id": "b8bba31eb449bf5",
   "outputs": [],
   "execution_count": 19
  },
  {
   "metadata": {
    "ExecuteTime": {
     "end_time": "2025-06-11T08:49:29.290922Z",
     "start_time": "2025-06-11T08:49:29.260276Z"
    }
   },
   "cell_type": "code",
   "source": "data_df['Infected'].max()",
   "id": "2404b8fbad8c84c4",
   "outputs": [
    {
     "data": {
      "text/plain": [
       "19"
      ]
     },
     "execution_count": 27,
     "metadata": {},
     "output_type": "execute_result"
    }
   ],
   "execution_count": 27
  },
  {
   "metadata": {
    "ExecuteTime": {
     "end_time": "2025-06-11T07:56:39.885640Z",
     "start_time": "2025-06-11T07:56:29.243231Z"
    }
   },
   "cell_type": "code",
   "source": [
    "pop_data = pd.read_csv(pop_fn%region_level, dtype={'GeoId':str})\n",
    "pop_data['Infected-plot'] = 0\n",
    "for d in range(len(data_df['Day'].unique())):\n",
    "    fig, ax = plt.subplots(figsize = (20,20))\n",
    "    \n",
    "    plot_data = pop_data.join(data_df[data_df['Day'] == d].set_index('GeoId')['Infected'], on = 'GeoId', how = 'left')\n",
    "    plot_data['Infected'] = plot_data['Infected'].fillna(plot_data['Infected-plot'])\n",
    "    pop_data['Infected-plot'] = plot_data['Infected']\n",
    "\n",
    "    plot_data['GeoId'] = plot_data['GeoId'].apply(lambda x: x[:5])\n",
    "    plot_data = plot_data.groupby('GeoId')[['Population','Infected']].sum().reset_index()\n",
    "    prob_map_df = map_df.merge(plot_data, left_on='GEOID', right_on='GeoId', how = 'left').fillna(0)\n",
    "    prob_map_df.plot(column='Infected', cmap='Blues', ax = ax, linewidth = 0.1, legend=True , vmin=0, vmax=30, legend_kwds={'shrink': 0.5, 'orientation':'horizontal'})\n",
    "    ax.axis('off')\n",
    "    ax.annotate(f'Day: {d}', xy=(0.5, 1.05), xycoords='axes fraction', fontsize=12, ha='center')\n",
    "    \n",
    "    fig.savefig('test-viz/%d.png'%d)\n",
    "    plt.close(fig)"
   ],
   "id": "5a8b37bf08fc264",
   "outputs": [],
   "execution_count": 22
  },
  {
   "metadata": {
    "ExecuteTime": {
     "end_time": "2025-06-11T08:01:56.616742Z",
     "start_time": "2025-06-11T08:01:56.614447Z"
    }
   },
   "cell_type": "code",
   "source": [
    "from matplotlib.widgets import Slider\n",
    "from PIL import Image\n",
    "import os\n",
    "import numpy as np"
   ],
   "id": "9e5a953d60eca202",
   "outputs": [],
   "execution_count": 25
  },
  {
   "metadata": {
    "ExecuteTime": {
     "end_time": "2025-06-11T08:02:14.420758Z",
     "start_time": "2025-06-11T08:02:13.427133Z"
    }
   },
   "cell_type": "code",
   "source": [
    "def load_images_from_folder(folder):\n",
    "    images = []\n",
    "    for filename in os.listdir(folder):\n",
    "        if filename.lower().endswith(('.png')):\n",
    "            try:\n",
    "                img_path = os.path.join(folder, filename)\n",
    "                img = Image.open(img_path)\n",
    "                images.append(np.array(img))\n",
    "            except Exception as e:\n",
    "                print(f\"Error loading {filename}: {e}\")\n",
    "    return images\n",
    "\n",
    "# Path to your image folder\n",
    "image_folder = \"test-viz\"\n",
    "\n",
    "# Load images\n",
    "image_list = load_images_from_folder(image_folder)\n",
    "\n",
    "if not image_list:\n",
    "    print(\"No images found in the specified folder.\")\n",
    "else:\n",
    "    # Set up the figure and axes\n",
    "    fig, ax = plt.subplots()\n",
    "    plt.subplots_adjust(bottom=0.25)\n",
    "    current_image_index = 0\n",
    "    im = ax.imshow(image_list[current_image_index])\n",
    "\n",
    "    # Create slider axis\n",
    "    ax_slider = plt.axes([0.25, 0.1, 0.65, 0.03])\n",
    "\n",
    "    # Create slider\n",
    "    slider = Slider(ax_slider, \"Image\", 0, len(image_list) - 1, valinit=current_image_index, valstep=1)\n",
    "\n",
    "    # Function to update the image\n",
    "    def update(val):\n",
    "        global current_image_index\n",
    "        current_image_index = int(slider.val)\n",
    "        im.set_data(image_list[current_image_index])\n",
    "        fig.canvas.draw_idle()\n",
    "\n",
    "    # Connect slider to update function\n",
    "    slider.on_changed(update)\n",
    "\n",
    "    plt.show()"
   ],
   "id": "7c27a24087d5a46a",
   "outputs": [
    {
     "data": {
      "text/plain": [
       "<Figure size 640x480 with 2 Axes>"
      ],
      "image/png": "[encoded data removed]"
     },
     "metadata": {},
     "output_type": "display_data"
    }
   ],
   "execution_count": 26
  },
  {
   "metadata": {},
   "cell_type": "code",
   "outputs": [],
   "execution_count": null,
   "source": "",
   "id": "ecd12cbbb2275c99"
  }
 ],
 "metadata": {
  "kernelspec": {
   "display_name": "Python 3",
   "language": "python",
   "name": "python3"
  },
  "language_info": {
   "codemirror_mode": {
    "name": "ipython",
    "version": 2
   },
   "file_extension": ".py",
   "mimetype": "text/x-python",
   "name": "python",
   "nbconvert_exporter": "python",
   "pygments_lexer": "ipython2",
   "version": "2.7.6"
  }
 },
 "nbformat": 4,
 "nbformat_minor": 5
}
