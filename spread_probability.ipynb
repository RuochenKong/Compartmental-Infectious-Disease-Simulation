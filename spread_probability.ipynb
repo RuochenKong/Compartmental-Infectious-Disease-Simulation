{
 "cells": [
  {
   "cell_type": "code",
   "id": "initial_id",
   "metadata": {
    "collapsed": true,
    "ExecuteTime": {
     "end_time": "2025-01-27T18:54:38.035886Z",
     "start_time": "2025-01-27T18:54:37.587091Z"
    }
   },
   "source": [
    "import numpy as np\n",
    "import pandas as pd\n",
    "import os"
   ],
   "outputs": [],
   "execution_count": 1
  },
  {
   "metadata": {
    "ExecuteTime": {
     "end_time": "2025-01-27T18:54:47.902586Z",
     "start_time": "2025-01-27T18:54:39.254516Z"
    }
   },
   "cell_type": "code",
   "source": [
    "chunked_data = pd.read_csv('src_data/cbg2cbg_revise.csv', chunksize=100000)\n",
    "chunk_list = []\n",
    "for chunk in chunked_data:\n",
    "    chunk_list.append(chunk)\n",
    "transport_data = pd.concat(chunk_list)"
   ],
   "id": "7730cad32a9fbd62",
   "outputs": [],
   "execution_count": 2
  },
  {
   "metadata": {
    "ExecuteTime": {
     "end_time": "2025-01-27T18:54:49.370538Z",
     "start_time": "2025-01-27T18:54:49.367408Z"
    }
   },
   "cell_type": "code",
   "source": [
    "group_by_src = transport_data.groupby('poi_cbg_source')\n",
    "group_by_des = transport_data.groupby('poi_cbg_destination')"
   ],
   "id": "fe7d3707fac182d4",
   "outputs": [],
   "execution_count": 3
  },
  {
   "metadata": {
    "ExecuteTime": {
     "end_time": "2025-01-27T18:54:56.516160Z",
     "start_time": "2025-01-27T18:54:55.763824Z"
    }
   },
   "cell_type": "code",
   "source": "group_by_des.get_group(11010060001).sum()",
   "id": "1e2ebd71c4b5bd67",
   "outputs": [
    {
     "data": {
      "text/plain": [
       "poi_cbg_source         633275749573\n",
       "poi_cbg_destination    660603600060\n",
       "src_prob                        1.0\n",
       "des_prob                   0.260424\n",
       "dtype: object"
      ]
     },
     "execution_count": 4,
     "metadata": {},
     "output_type": "execute_result"
    }
   ],
   "execution_count": 4
  },
  {
   "metadata": {
    "ExecuteTime": {
     "end_time": "2025-01-27T18:58:29.240001Z",
     "start_time": "2025-01-27T18:58:28.067271Z"
    }
   },
   "cell_type": "code",
   "source": "src_cbgs = list(transport_data['poi_cbg_source'])",
   "id": "ab596175ebe00329",
   "outputs": [],
   "execution_count": 11
  },
  {
   "metadata": {
    "ExecuteTime": {
     "end_time": "2025-01-27T19:01:36.722577Z",
     "start_time": "2025-01-27T19:01:36.719660Z"
    }
   },
   "cell_type": "code",
   "source": "test_df = group_by_src.get_group(src_cbgs[0])",
   "id": "d3f58460f3b697e9",
   "outputs": [],
   "execution_count": 16
  },
  {
   "metadata": {
    "ExecuteTime": {
     "end_time": "2025-01-27T19:01:37.831852Z",
     "start_time": "2025-01-27T19:01:37.827604Z"
    }
   },
   "cell_type": "code",
   "source": "test_df.sum()",
   "id": "a338e7f7b14c1255",
   "outputs": [
    {
     "data": {
      "text/plain": [
       "poi_cbg_source         380387638038\n",
       "poi_cbg_destination    401385212357\n",
       "src_prob                   0.288262\n",
       "des_prob                        1.0\n",
       "dtype: object"
      ]
     },
     "execution_count": 17,
     "metadata": {},
     "output_type": "execute_result"
    }
   ],
   "execution_count": 17
  },
  {
   "metadata": {
    "ExecuteTime": {
     "end_time": "2025-01-27T19:02:02.735740Z",
     "start_time": "2025-01-27T19:02:02.710448Z"
    }
   },
   "cell_type": "code",
   "source": [
    "probs = {}\n",
    "des_cbgs = list(test_df['poi_cbg_destination'])\n",
    "des_probs = list(test_df['des_prob'])\n",
    "src_cbg = test_df['poi_cbg_source'].iloc[0]\n",
    "for des_cbg, des_prob in zip(des_cbgs, des_probs):\n",
    "    des_prob_df = group_by_des.get_group(des_cbg)\n",
    "    rev_src_cbg = list(des_prob_df['poi_cbg_source'])\n",
    "    rev_src_prob = list(des_prob_df['src_prob'])\n",
    "    for c,p in zip(rev_src_cbg,rev_src_prob):\n",
    "        if c not in probs: probs[c] = 0\n",
    "        probs[c] += des_prob * p\n",
    "\n",
    "probs = pd.DataFrame(probs.items(), columns = ['to', 'prob'])\n",
    "probs['from'] = len(probs) * [src_cbg]\n",
    "probs = probs[['from', 'to', 'prob']]\n",
    "probs"
   ],
   "id": "9ef5791c5998d431",
   "outputs": [
    {
     "data": {
      "text/plain": [
       "             from            to      prob\n",
       "0     10010201001   10010201001  0.010348\n",
       "1     10010201001   10010201002  0.016691\n",
       "2     10010201001   10010202001  0.009565\n",
       "3     10010201001   10010202002  0.012180\n",
       "4     10010201001   10010203001  0.032125\n",
       "...           ...           ...       ...\n",
       "1449  10010201001   11170303041  0.000019\n",
       "1450  10010201001   11170303053  0.000019\n",
       "1451  10010201001   11170303303  0.000019\n",
       "1452  10010201001  120910215021  0.000019\n",
       "1453  10010201001   11250120003  0.000041\n",
       "\n",
       "[1454 rows x 3 columns]"
      ],
      "text/html": [
       "<div>\n",
       "<style scoped>\n",
       "    .dataframe tbody tr th:only-of-type {\n",
       "        vertical-align: middle;\n",
       "    }\n",
       "\n",
       "    .dataframe tbody tr th {\n",
       "        vertical-align: top;\n",
       "    }\n",
       "\n",
       "    .dataframe thead th {\n",
       "        text-align: right;\n",
       "    }\n",
       "</style>\n",
       "<table border=\"1\" class=\"dataframe\">\n",
       "  <thead>\n",
       "    <tr style=\"text-align: right;\">\n",
       "      <th></th>\n",
       "      <th>from</th>\n",
       "      <th>to</th>\n",
       "      <th>prob</th>\n",
       "    </tr>\n",
       "  </thead>\n",
       "  <tbody>\n",
       "    <tr>\n",
       "      <th>0</th>\n",
       "      <td>10010201001</td>\n",
       "      <td>10010201001</td>\n",
       "      <td>0.010348</td>\n",
       "    </tr>\n",
       "    <tr>\n",
       "      <th>1</th>\n",
       "      <td>10010201001</td>\n",
       "      <td>10010201002</td>\n",
       "      <td>0.016691</td>\n",
       "    </tr>\n",
       "    <tr>\n",
       "      <th>2</th>\n",
       "      <td>10010201001</td>\n",
       "      <td>10010202001</td>\n",
       "      <td>0.009565</td>\n",
       "    </tr>\n",
       "    <tr>\n",
       "      <th>3</th>\n",
       "      <td>10010201001</td>\n",
       "      <td>10010202002</td>\n",
       "      <td>0.012180</td>\n",
       "    </tr>\n",
       "    <tr>\n",
       "      <th>4</th>\n",
       "      <td>10010201001</td>\n",
       "      <td>10010203001</td>\n",
       "      <td>0.032125</td>\n",
       "    </tr>\n",
       "    <tr>\n",
       "      <th>...</th>\n",
       "      <td>...</td>\n",
       "      <td>...</td>\n",
       "      <td>...</td>\n",
       "    </tr>\n",
       "    <tr>\n",
       "      <th>1449</th>\n",
       "      <td>10010201001</td>\n",
       "      <td>11170303041</td>\n",
       "      <td>0.000019</td>\n",
       "    </tr>\n",
       "    <tr>\n",
       "      <th>1450</th>\n",
       "      <td>10010201001</td>\n",
       "      <td>11170303053</td>\n",
       "      <td>0.000019</td>\n",
       "    </tr>\n",
       "    <tr>\n",
       "      <th>1451</th>\n",
       "      <td>10010201001</td>\n",
       "      <td>11170303303</td>\n",
       "      <td>0.000019</td>\n",
       "    </tr>\n",
       "    <tr>\n",
       "      <th>1452</th>\n",
       "      <td>10010201001</td>\n",
       "      <td>120910215021</td>\n",
       "      <td>0.000019</td>\n",
       "    </tr>\n",
       "    <tr>\n",
       "      <th>1453</th>\n",
       "      <td>10010201001</td>\n",
       "      <td>11250120003</td>\n",
       "      <td>0.000041</td>\n",
       "    </tr>\n",
       "  </tbody>\n",
       "</table>\n",
       "<p>1454 rows × 3 columns</p>\n",
       "</div>"
      ]
     },
     "execution_count": 18,
     "metadata": {},
     "output_type": "execute_result"
    }
   ],
   "execution_count": 18
  },
  {
   "metadata": {
    "ExecuteTime": {
     "end_time": "2025-01-27T18:55:24.331455Z",
     "start_time": "2025-01-27T18:55:24.324872Z"
    }
   },
   "cell_type": "code",
   "source": "probs.sum()",
   "id": "b0e01a0bfad1d1dd",
   "outputs": [
    {
     "data": {
      "text/plain": [
       "0    1.178923e+14\n",
       "1    1.000000e+00\n",
       "dtype: float64"
      ]
     },
     "execution_count": 9,
     "metadata": {},
     "output_type": "execute_result"
    }
   ],
   "execution_count": 9
  },
  {
   "metadata": {},
   "cell_type": "code",
   "source": "des_prob_df.sum()",
   "id": "6013e833f5118310",
   "outputs": [],
   "execution_count": null
  },
  {
   "metadata": {
    "ExecuteTime": {
     "end_time": "2025-01-22T17:26:18.690724Z",
     "start_time": "2025-01-22T17:26:18.685596Z"
    }
   },
   "cell_type": "code",
   "source": "group_by_des.get_group(11010060001)",
   "id": "98d6b162b916cf19",
   "outputs": [
    {
     "data": {
      "text/plain": [
       "          poi_cbg_source poi_cbg_destination  src_prob  des_prob\n",
       "37           10010201001         11010060001  0.011811  0.006952\n",
       "84           10010201002         11010060001  0.017717  0.005039\n",
       "130          10010202001         11010060001  0.011811  0.006179\n",
       "182          10010202002         11010060001  0.011811  0.004454\n",
       "269          10010203001         11010060001  0.021654  0.002450\n",
       "...                  ...                 ...       ...       ...\n",
       "257233       11250112001         11010060001  0.015748  0.000123\n",
       "257759       11250114013         11010060001  0.005906  0.000557\n",
       "259007       11250120003         11010060001  0.005906  0.000538\n",
       "14151749    470370103012         11010060001  0.500000  0.000515\n",
       "14419488    471650209023         11010060001  0.500000  0.000591\n",
       "\n",
       "[62 rows x 4 columns]"
      ],
      "text/html": [
       "<div>\n",
       "<style scoped>\n",
       "    .dataframe tbody tr th:only-of-type {\n",
       "        vertical-align: middle;\n",
       "    }\n",
       "\n",
       "    .dataframe tbody tr th {\n",
       "        vertical-align: top;\n",
       "    }\n",
       "\n",
       "    .dataframe thead th {\n",
       "        text-align: right;\n",
       "    }\n",
       "</style>\n",
       "<table border=\"1\" class=\"dataframe\">\n",
       "  <thead>\n",
       "    <tr style=\"text-align: right;\">\n",
       "      <th></th>\n",
       "      <th>poi_cbg_source</th>\n",
       "      <th>poi_cbg_destination</th>\n",
       "      <th>src_prob</th>\n",
       "      <th>des_prob</th>\n",
       "    </tr>\n",
       "  </thead>\n",
       "  <tbody>\n",
       "    <tr>\n",
       "      <th>37</th>\n",
       "      <td>10010201001</td>\n",
       "      <td>11010060001</td>\n",
       "      <td>0.011811</td>\n",
       "      <td>0.006952</td>\n",
       "    </tr>\n",
       "    <tr>\n",
       "      <th>84</th>\n",
       "      <td>10010201002</td>\n",
       "      <td>11010060001</td>\n",
       "      <td>0.017717</td>\n",
       "      <td>0.005039</td>\n",
       "    </tr>\n",
       "    <tr>\n",
       "      <th>130</th>\n",
       "      <td>10010202001</td>\n",
       "      <td>11010060001</td>\n",
       "      <td>0.011811</td>\n",
       "      <td>0.006179</td>\n",
       "    </tr>\n",
       "    <tr>\n",
       "      <th>182</th>\n",
       "      <td>10010202002</td>\n",
       "      <td>11010060001</td>\n",
       "      <td>0.011811</td>\n",
       "      <td>0.004454</td>\n",
       "    </tr>\n",
       "    <tr>\n",
       "      <th>269</th>\n",
       "      <td>10010203001</td>\n",
       "      <td>11010060001</td>\n",
       "      <td>0.021654</td>\n",
       "      <td>0.002450</td>\n",
       "    </tr>\n",
       "    <tr>\n",
       "      <th>...</th>\n",
       "      <td>...</td>\n",
       "      <td>...</td>\n",
       "      <td>...</td>\n",
       "      <td>...</td>\n",
       "    </tr>\n",
       "    <tr>\n",
       "      <th>257233</th>\n",
       "      <td>11250112001</td>\n",
       "      <td>11010060001</td>\n",
       "      <td>0.015748</td>\n",
       "      <td>0.000123</td>\n",
       "    </tr>\n",
       "    <tr>\n",
       "      <th>257759</th>\n",
       "      <td>11250114013</td>\n",
       "      <td>11010060001</td>\n",
       "      <td>0.005906</td>\n",
       "      <td>0.000557</td>\n",
       "    </tr>\n",
       "    <tr>\n",
       "      <th>259007</th>\n",
       "      <td>11250120003</td>\n",
       "      <td>11010060001</td>\n",
       "      <td>0.005906</td>\n",
       "      <td>0.000538</td>\n",
       "    </tr>\n",
       "    <tr>\n",
       "      <th>14151749</th>\n",
       "      <td>470370103012</td>\n",
       "      <td>11010060001</td>\n",
       "      <td>0.500000</td>\n",
       "      <td>0.000515</td>\n",
       "    </tr>\n",
       "    <tr>\n",
       "      <th>14419488</th>\n",
       "      <td>471650209023</td>\n",
       "      <td>11010060001</td>\n",
       "      <td>0.500000</td>\n",
       "      <td>0.000591</td>\n",
       "    </tr>\n",
       "  </tbody>\n",
       "</table>\n",
       "<p>62 rows × 4 columns</p>\n",
       "</div>"
      ]
     },
     "execution_count": 11,
     "metadata": {},
     "output_type": "execute_result"
    }
   ],
   "execution_count": 11
  },
  {
   "metadata": {
    "ExecuteTime": {
     "end_time": "2025-01-22T17:26:34.723128Z",
     "start_time": "2025-01-22T17:26:34.719848Z"
    }
   },
   "cell_type": "code",
   "source": "group_by_des.get_group(11010060001).sum()",
   "id": "6270d666e03a4526",
   "outputs": [
    {
     "data": {
      "text/plain": [
       "poi_cbg_source         1575296061608\n",
       "poi_cbg_destination     682623720062\n",
       "src_prob                         2.0\n",
       "des_prob                     0.26153\n",
       "dtype: object"
      ]
     },
     "execution_count": 12,
     "metadata": {},
     "output_type": "execute_result"
    }
   ],
   "execution_count": 12
  },
  {
   "metadata": {
    "ExecuteTime": {
     "end_time": "2025-01-27T19:02:34.204907Z",
     "start_time": "2025-01-27T19:02:34.201580Z"
    }
   },
   "cell_type": "code",
   "source": [
    "def cal_spread_probs(src_cbg_df):\n",
    "    probs = {}\n",
    "    des_cbgs = list(src_cbg_df['poi_cbg_destination'])\n",
    "    des_probs = list(src_cbg_df['des_prob'])\n",
    "    src_cbg = src_cbg_df['poi_cbg_source'].iloc[0]\n",
    "    for des_cbg, des_prob in zip(des_cbgs, des_probs):\n",
    "        des_prob_df = group_by_des.get_group(des_cbg)\n",
    "        rev_src_cbg = list(des_prob_df['poi_cbg_source'])\n",
    "        rev_src_prob = list(des_prob_df['src_prob'])\n",
    "        for c,p in zip(rev_src_cbg,rev_src_prob):\n",
    "            if c not in probs: probs[c] = 0\n",
    "            probs[c] += des_prob * p\n",
    "\n",
    "    probs = pd.DataFrame(probs.items(), columns = ['to', 'prob'])\n",
    "    probs['from'] = len(probs) * [src_cbg]\n",
    "    probs = probs[['from', 'to', 'prob']]\n",
    "    return probs"
   ],
   "id": "6b75b7eede53fb8c",
   "outputs": [],
   "execution_count": 19
  },
  {
   "metadata": {
    "jupyter": {
     "is_executing": true
    },
    "ExecuteTime": {
     "end_time": "2025-01-27T22:40:51.397285142Z",
     "start_time": "2025-01-27T19:03:10.787014Z"
    }
   },
   "cell_type": "code",
   "source": "results = group_by_src.apply(cal_spread_probs)",
   "id": "9620d4f2e7e139b7",
   "outputs": [],
   "execution_count": null
  },
  {
   "metadata": {
    "ExecuteTime": {
     "end_time": "2025-01-27T22:57:28.631385Z",
     "start_time": "2025-01-27T22:57:28.624625Z"
    }
   },
   "cell_type": "code",
   "source": [
    "import pandas as pd\n",
    "\n",
    "df = pd.DataFrame({\n",
    "    'group': ['A', 'A', 'B', 'B'],\n",
    "    'value1': [1, 2, 3, 4],\n",
    "    'value2': [5, 6, 7, 8]\n",
    "})\n",
    "\n",
    "def calculate_stats(group):\n",
    "    r = {}\n",
    "    r['g'] = list(group['group'])[:2]\n",
    "    r['value1'] = list(group['value1'])[:2]\n",
    "    r['value2'] = list(group['value1'])[:2]\n",
    "\n",
    "    probs = pd.DataFrame(r)\n",
    "    return probs\n",
    "\n",
    "\n",
    "result = df.groupby('group')[df.columns.tolist()].apply(calculate_stats).reset_index(drop=True)\n",
    "\n",
    "print(result)"
   ],
   "id": "47f66a690492a26d",
   "outputs": [
    {
     "name": "stdout",
     "output_type": "stream",
     "text": [
      "   g  value1  value2\n",
      "0  A       1       1\n",
      "1  A       2       2\n",
      "2  B       3       3\n",
      "3  B       4       4\n"
     ]
    }
   ],
   "execution_count": 19
  },
  {
   "metadata": {},
   "cell_type": "code",
   "outputs": [],
   "execution_count": null,
   "source": "",
   "id": "1ab1e8f9d4cd5555"
  }
 ],
 "metadata": {
  "kernelspec": {
   "display_name": "Python 3",
   "language": "python",
   "name": "python3"
  },
  "language_info": {
   "codemirror_mode": {
    "name": "ipython",
    "version": 2
   },
   "file_extension": ".py",
   "mimetype": "text/x-python",
   "name": "python",
   "nbconvert_exporter": "python",
   "pygments_lexer": "ipython2",
   "version": "2.7.6"
  }
 },
 "nbformat": 4,
 "nbformat_minor": 5
}
