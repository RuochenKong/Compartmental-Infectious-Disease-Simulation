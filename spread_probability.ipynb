{
 "cells": [
  {
   "cell_type": "code",
   "id": "initial_id",
   "metadata": {
    "collapsed": true,
    "ExecuteTime": {
     "end_time": "2025-01-22T18:09:33.234567Z",
     "start_time": "2025-01-22T18:09:33.230886Z"
    }
   },
   "source": [
    "import numpy as np\n",
    "import pandas as pd\n",
    "import os"
   ],
   "outputs": [],
   "execution_count": 8
  },
  {
   "metadata": {
    "ExecuteTime": {
     "end_time": "2025-01-22T18:10:52.471150Z",
     "start_time": "2025-01-22T18:10:47.306104Z"
    }
   },
   "cell_type": "code",
   "source": [
    "chunked_data = pd.read_csv('src_data/cbg2cbg_revise.csv', chunksize=100000)\n",
    "chunk_list = []\n",
    "for chunk in chunked_data:\n",
    "    chunk_list.append(chunk)\n",
    "transport_data = pd.concat(chunk_list)"
   ],
   "id": "7730cad32a9fbd62",
   "outputs": [],
   "execution_count": 12
  },
  {
   "metadata": {
    "ExecuteTime": {
     "end_time": "2025-01-22T18:11:13.267168Z",
     "start_time": "2025-01-22T18:11:13.143059Z"
    }
   },
   "cell_type": "code",
   "source": [
    "group_by_src = transport_data.groupby('poi_cbg_source')\n",
    "group_by_des = transport_data.groupby('poi_cbg_destination')"
   ],
   "id": "fe7d3707fac182d4",
   "outputs": [],
   "execution_count": 13
  },
  {
   "metadata": {
    "ExecuteTime": {
     "end_time": "2025-01-22T18:11:24.245051Z",
     "start_time": "2025-01-22T18:11:22.806108Z"
    }
   },
   "cell_type": "code",
   "source": "group_by_des.get_group(11010060001).sum()",
   "id": "1e2ebd71c4b5bd67",
   "outputs": [
    {
     "data": {
      "text/plain": [
       "poi_cbg_source         633275749573\n",
       "poi_cbg_destination    660603600060\n",
       "src_prob                        1.0\n",
       "des_prob                   0.260424\n",
       "dtype: object"
      ]
     },
     "execution_count": 14,
     "metadata": {},
     "output_type": "execute_result"
    }
   ],
   "execution_count": 14
  },
  {
   "metadata": {
    "ExecuteTime": {
     "end_time": "2025-01-22T17:01:28.127581Z",
     "start_time": "2025-01-22T17:01:26.488046Z"
    }
   },
   "cell_type": "code",
   "source": "src_cbgs = list(transport_data['poi_cbg_source'])",
   "id": "ab596175ebe00329",
   "outputs": [],
   "execution_count": 4
  },
  {
   "metadata": {
    "ExecuteTime": {
     "end_time": "2025-01-22T17:01:31.436535Z",
     "start_time": "2025-01-22T17:01:29.618041Z"
    }
   },
   "cell_type": "code",
   "source": "test_df = group_by_src.get_group(src_cbgs[0])",
   "id": "d3f58460f3b697e9",
   "outputs": [],
   "execution_count": 5
  },
  {
   "metadata": {
    "ExecuteTime": {
     "end_time": "2025-01-22T17:01:32.133424Z",
     "start_time": "2025-01-22T17:01:32.121472Z"
    }
   },
   "cell_type": "code",
   "source": "test_df.sum()",
   "id": "a338e7f7b14c1255",
   "outputs": [
    {
     "data": {
      "text/plain": [
       "poi_cbg_source         380387638038\n",
       "poi_cbg_destination    401385212357\n",
       "src_prob                   0.288262\n",
       "des_prob                        1.0\n",
       "dtype: object"
      ]
     },
     "execution_count": 6,
     "metadata": {},
     "output_type": "execute_result"
    }
   ],
   "execution_count": 6
  },
  {
   "metadata": {
    "ExecuteTime": {
     "end_time": "2025-01-22T17:26:06.520758Z",
     "start_time": "2025-01-22T17:26:06.495486Z"
    }
   },
   "cell_type": "code",
   "source": [
    "probs = {}\n",
    "des_cbgs = list(test_df['poi_cbg_destination'])\n",
    "des_probs = list(test_df['des_prob'])\n",
    "\n",
    "for des_cbg, des_prob in zip(des_cbgs, des_probs):\n",
    "    des_prob_df = group_by_des.get_group(des_cbg)\n",
    "    print(des_cbg, des_prob_df.sum())\n",
    "    rev_src_cbg = list(des_prob_df['poi_cbg_source'])\n",
    "    rev_src_prob = list(des_prob_df['src_prob'])\n",
    "    for c,p in zip(rev_src_cbg,rev_src_prob):\n",
    "        if c not in probs: probs[c] = 0\n",
    "        probs[c] += des_prob * p\n",
    "\n",
    "probs = pd.DataFrame(probs.items())  \n",
    "probs"
   ],
   "id": "9ef5791c5998d431",
   "outputs": [
    {
     "name": "stdout",
     "output_type": "stream",
     "text": [
      "10010201001 poi_cbg_source         357266375210\n",
      "poi_cbg_destination    350357035035\n",
      "src_prob                        1.0\n",
      "des_prob                   0.261812\n",
      "dtype: object\n",
      "10010202001 poi_cbg_source         460784162283\n",
      "poi_cbg_destination    410418282041\n",
      "src_prob                        1.0\n",
      "des_prob                   0.165152\n",
      "dtype: object\n",
      "10010202002 poi_cbg_source         757760361547\n",
      "poi_cbg_destination    560571312112\n",
      "src_prob                        1.0\n",
      "des_prob                   0.625825\n",
      "dtype: object\n",
      "10010203002 poi_cbg_source         3376061543533\n",
      "poi_cbg_destination    1251275375250\n",
      "src_prob                         2.0\n",
      "des_prob                    2.780649\n",
      "dtype: object\n",
      "10010204003 poi_cbg_source         556531739626\n",
      "poi_cbg_destination    540551016162\n",
      "src_prob                        1.0\n",
      "des_prob                   0.315708\n",
      "dtype: object\n",
      "10010204004 poi_cbg_source         880778630338\n",
      "poi_cbg_destination    410418364164\n",
      "src_prob                        2.0\n",
      "des_prob                   0.223659\n",
      "dtype: object\n",
      "10010205001 poi_cbg_source         3728654675114\n",
      "poi_cbg_destination    1571602185157\n",
      "src_prob                         1.0\n",
      "des_prob                    1.768569\n",
      "dtype: object\n",
      "10010205002 poi_cbg_source         29418102001840\n",
      "poi_cbg_destination     4444531020888\n",
      "src_prob                     1.959732\n",
      "des_prob                    12.559732\n",
      "dtype: object\n",
      "10010205003 poi_cbg_source         366368293276\n",
      "poi_cbg_destination    360367380108\n",
      "src_prob                        1.0\n",
      "des_prob                   0.073212\n",
      "dtype: object\n",
      "10010206002 poi_cbg_source         525703325373\n",
      "poi_cbg_destination    510520506102\n",
      "src_prob                        1.0\n",
      "des_prob                   0.421456\n",
      "dtype: object\n",
      "10010207001 poi_cbg_source         3071798969123\n",
      "poi_cbg_destination    1451480015145\n",
      "src_prob                         1.0\n",
      "des_prob                    0.864668\n",
      "dtype: object\n",
      "10010207002 poi_cbg_source         1129823276622\n",
      "poi_cbg_destination     720734904144\n",
      "src_prob                         2.0\n",
      "des_prob                    0.854078\n",
      "dtype: object\n",
      "10010208022 poi_cbg_source         1157011703867\n",
      "poi_cbg_destination     630643105386\n",
      "src_prob                         1.0\n",
      "des_prob                    0.265918\n",
      "dtype: object\n",
      "10010209003 poi_cbg_source         204607530116\n",
      "poi_cbg_destination    200204180060\n",
      "src_prob                        1.0\n",
      "des_prob                   0.122338\n",
      "dtype: object\n",
      "10510308001 poi_cbg_source         11423609562962\n",
      "poi_cbg_destination     3920344884373\n",
      "src_prob                          2.0\n",
      "des_prob                     3.793147\n",
      "dtype: object\n",
      "10510308002 poi_cbg_source         1491938606826\n",
      "poi_cbg_destination     998479260190\n",
      "src_prob                         1.0\n",
      "des_prob                    0.668718\n",
      "dtype: object\n",
      "10510309023 poi_cbg_source         551992992318\n",
      "poi_cbg_destination    557046378219\n",
      "src_prob                        1.0\n",
      "des_prob                    0.11548\n",
      "dtype: object\n",
      "10510310001 poi_cbg_source         6608941669023\n",
      "poi_cbg_destination    1996958900190\n",
      "src_prob                         2.0\n",
      "des_prob                    6.113748\n",
      "dtype: object\n",
      "10510310002 poi_cbg_source         3850803728549\n",
      "poi_cbg_destination    1723690840328\n",
      "src_prob                         1.0\n",
      "des_prob                    2.190144\n",
      "dtype: object\n",
      "10510313001 poi_cbg_source         97107334738501\n",
      "poi_cbg_destination     8776111355835\n",
      "src_prob                      1.95748\n",
      "des_prob                    11.740125\n",
      "dtype: object\n",
      "11010001001 poi_cbg_source         17038297600233\n",
      "poi_cbg_destination     4095720372372\n",
      "src_prob                         1.84\n",
      "des_prob                    12.820169\n",
      "dtype: object\n",
      "11010006002 poi_cbg_source         4866269773439\n",
      "poi_cbg_destination    3159871722574\n",
      "src_prob                    1.030303\n",
      "des_prob                   23.786377\n",
      "dtype: object\n",
      "11010010001 poi_cbg_source         780995049222\n",
      "poi_cbg_destination    803730730073\n",
      "src_prob                        1.0\n",
      "des_prob                   0.298578\n",
      "dtype: object\n",
      "11010015003 poi_cbg_source         10638604948334\n",
      "poi_cbg_destination     4150775656131\n",
      "src_prob                         1.75\n",
      "des_prob                     2.321759\n",
      "dtype: object\n",
      "11010018001 poi_cbg_source         5269742265789\n",
      "poi_cbg_destination    2686444392244\n",
      "src_prob                         1.0\n",
      "des_prob                    3.360841\n",
      "dtype: object\n",
      "11010020002 poi_cbg_source         3003821632829\n",
      "poi_cbg_destination    2708464920492\n",
      "src_prob                         1.0\n",
      "des_prob                   16.278492\n",
      "dtype: object\n",
      "11010022014 poi_cbg_source         2000100267121\n",
      "poi_cbg_destination    1530393059946\n",
      "src_prob                         1.0\n",
      "des_prob                    0.499592\n",
      "dtype: object\n",
      "11010023004 poi_cbg_source         18774435000827\n",
      "poi_cbg_destination     3688357706340\n",
      "src_prob                     1.954545\n",
      "des_prob                     1.132257\n",
      "dtype: object\n",
      "11010025001 poi_cbg_source         2547034203004\n",
      "poi_cbg_destination    1805644100164\n",
      "src_prob                         1.0\n",
      "des_prob                    2.079358\n",
      "dtype: object\n",
      "11010026002 poi_cbg_source         2527941045771\n",
      "poi_cbg_destination    2003824732364\n",
      "src_prob                         2.0\n",
      "des_prob                      3.5159\n",
      "dtype: object\n",
      "11010026004 poi_cbg_source         4381943540050\n",
      "poi_cbg_destination    2895636839052\n",
      "src_prob                         1.0\n",
      "des_prob                    1.911145\n",
      "dtype: object\n",
      "11010027004 poi_cbg_source         4269595346196\n",
      "poi_cbg_destination    2796546859016\n",
      "src_prob                         2.0\n",
      "des_prob                     1.84265\n",
      "dtype: object\n",
      "11010033011 poi_cbg_source         7585200736712\n",
      "poi_cbg_destination    3093819276091\n",
      "src_prob                         2.0\n",
      "des_prob                    1.748834\n",
      "dtype: object\n",
      "11010033021 poi_cbg_source         15978633312431\n",
      "poi_cbg_destination     4106742316833\n",
      "src_prob                          2.0\n",
      "des_prob                     4.786197\n",
      "dtype: object\n",
      "11010033022 poi_cbg_source         5229939219409\n",
      "poi_cbg_destination    3038769114072\n",
      "src_prob                         1.0\n",
      "des_prob                    4.352469\n",
      "dtype: object\n",
      "11010054081 poi_cbg_source         9641423514144\n",
      "poi_cbg_destination    4117760226294\n",
      "src_prob                         2.0\n",
      "des_prob                    8.562235\n",
      "dtype: object\n",
      "11010054103 poi_cbg_source         1668349716500\n",
      "poi_cbg_destination    1332216546463\n",
      "src_prob                         1.0\n",
      "des_prob                    0.237698\n",
      "dtype: object\n",
      "11010060001 poi_cbg_source         1575296061608\n",
      "poi_cbg_destination     682623720062\n",
      "src_prob                         2.0\n",
      "des_prob                     0.26153\n",
      "dtype: object\n"
     ]
    },
    {
     "data": {
      "text/plain": [
       "                 0         1\n",
       "0      10010201001  0.010348\n",
       "1      10010201002  0.016691\n",
       "2      10010202001  0.009565\n",
       "3      10010202002  0.012180\n",
       "4      10010203001  0.032125\n",
       "...            ...       ...\n",
       "1620   11170303303  0.000019\n",
       "1621  120910215021  0.000019\n",
       "1622   11250120003  0.000041\n",
       "1623  470370103012  0.003476\n",
       "1624  471650209023  0.003476\n",
       "\n",
       "[1625 rows x 2 columns]"
      ],
      "text/html": [
       "<div>\n",
       "<style scoped>\n",
       "    .dataframe tbody tr th:only-of-type {\n",
       "        vertical-align: middle;\n",
       "    }\n",
       "\n",
       "    .dataframe tbody tr th {\n",
       "        vertical-align: top;\n",
       "    }\n",
       "\n",
       "    .dataframe thead th {\n",
       "        text-align: right;\n",
       "    }\n",
       "</style>\n",
       "<table border=\"1\" class=\"dataframe\">\n",
       "  <thead>\n",
       "    <tr style=\"text-align: right;\">\n",
       "      <th></th>\n",
       "      <th>0</th>\n",
       "      <th>1</th>\n",
       "    </tr>\n",
       "  </thead>\n",
       "  <tbody>\n",
       "    <tr>\n",
       "      <th>0</th>\n",
       "      <td>10010201001</td>\n",
       "      <td>0.010348</td>\n",
       "    </tr>\n",
       "    <tr>\n",
       "      <th>1</th>\n",
       "      <td>10010201002</td>\n",
       "      <td>0.016691</td>\n",
       "    </tr>\n",
       "    <tr>\n",
       "      <th>2</th>\n",
       "      <td>10010202001</td>\n",
       "      <td>0.009565</td>\n",
       "    </tr>\n",
       "    <tr>\n",
       "      <th>3</th>\n",
       "      <td>10010202002</td>\n",
       "      <td>0.012180</td>\n",
       "    </tr>\n",
       "    <tr>\n",
       "      <th>4</th>\n",
       "      <td>10010203001</td>\n",
       "      <td>0.032125</td>\n",
       "    </tr>\n",
       "    <tr>\n",
       "      <th>...</th>\n",
       "      <td>...</td>\n",
       "      <td>...</td>\n",
       "    </tr>\n",
       "    <tr>\n",
       "      <th>1620</th>\n",
       "      <td>11170303303</td>\n",
       "      <td>0.000019</td>\n",
       "    </tr>\n",
       "    <tr>\n",
       "      <th>1621</th>\n",
       "      <td>120910215021</td>\n",
       "      <td>0.000019</td>\n",
       "    </tr>\n",
       "    <tr>\n",
       "      <th>1622</th>\n",
       "      <td>11250120003</td>\n",
       "      <td>0.000041</td>\n",
       "    </tr>\n",
       "    <tr>\n",
       "      <th>1623</th>\n",
       "      <td>470370103012</td>\n",
       "      <td>0.003476</td>\n",
       "    </tr>\n",
       "    <tr>\n",
       "      <th>1624</th>\n",
       "      <td>471650209023</td>\n",
       "      <td>0.003476</td>\n",
       "    </tr>\n",
       "  </tbody>\n",
       "</table>\n",
       "<p>1625 rows × 2 columns</p>\n",
       "</div>"
      ]
     },
     "execution_count": 10,
     "metadata": {},
     "output_type": "execute_result"
    }
   ],
   "execution_count": 10
  },
  {
   "metadata": {
    "ExecuteTime": {
     "end_time": "2025-01-22T17:01:59.625718Z",
     "start_time": "2025-01-22T17:01:59.622341Z"
    }
   },
   "cell_type": "code",
   "source": "probs.sum()",
   "id": "b0e01a0bfad1d1dd",
   "outputs": [
    {
     "data": {
      "text/plain": [
       "0    1.733579e+14\n",
       "1    1.620014e+00\n",
       "dtype: float64"
      ]
     },
     "execution_count": 8,
     "metadata": {},
     "output_type": "execute_result"
    }
   ],
   "execution_count": 8
  },
  {
   "metadata": {},
   "cell_type": "code",
   "source": "des_prob_df.sum()",
   "id": "6013e833f5118310",
   "outputs": [],
   "execution_count": null
  },
  {
   "metadata": {
    "ExecuteTime": {
     "end_time": "2025-01-22T17:26:18.690724Z",
     "start_time": "2025-01-22T17:26:18.685596Z"
    }
   },
   "cell_type": "code",
   "source": "group_by_des.get_group(11010060001)",
   "id": "98d6b162b916cf19",
   "outputs": [
    {
     "data": {
      "text/plain": [
       "          poi_cbg_source poi_cbg_destination  src_prob  des_prob\n",
       "37           10010201001         11010060001  0.011811  0.006952\n",
       "84           10010201002         11010060001  0.017717  0.005039\n",
       "130          10010202001         11010060001  0.011811  0.006179\n",
       "182          10010202002         11010060001  0.011811  0.004454\n",
       "269          10010203001         11010060001  0.021654  0.002450\n",
       "...                  ...                 ...       ...       ...\n",
       "257233       11250112001         11010060001  0.015748  0.000123\n",
       "257759       11250114013         11010060001  0.005906  0.000557\n",
       "259007       11250120003         11010060001  0.005906  0.000538\n",
       "14151749    470370103012         11010060001  0.500000  0.000515\n",
       "14419488    471650209023         11010060001  0.500000  0.000591\n",
       "\n",
       "[62 rows x 4 columns]"
      ],
      "text/html": [
       "<div>\n",
       "<style scoped>\n",
       "    .dataframe tbody tr th:only-of-type {\n",
       "        vertical-align: middle;\n",
       "    }\n",
       "\n",
       "    .dataframe tbody tr th {\n",
       "        vertical-align: top;\n",
       "    }\n",
       "\n",
       "    .dataframe thead th {\n",
       "        text-align: right;\n",
       "    }\n",
       "</style>\n",
       "<table border=\"1\" class=\"dataframe\">\n",
       "  <thead>\n",
       "    <tr style=\"text-align: right;\">\n",
       "      <th></th>\n",
       "      <th>poi_cbg_source</th>\n",
       "      <th>poi_cbg_destination</th>\n",
       "      <th>src_prob</th>\n",
       "      <th>des_prob</th>\n",
       "    </tr>\n",
       "  </thead>\n",
       "  <tbody>\n",
       "    <tr>\n",
       "      <th>37</th>\n",
       "      <td>10010201001</td>\n",
       "      <td>11010060001</td>\n",
       "      <td>0.011811</td>\n",
       "      <td>0.006952</td>\n",
       "    </tr>\n",
       "    <tr>\n",
       "      <th>84</th>\n",
       "      <td>10010201002</td>\n",
       "      <td>11010060001</td>\n",
       "      <td>0.017717</td>\n",
       "      <td>0.005039</td>\n",
       "    </tr>\n",
       "    <tr>\n",
       "      <th>130</th>\n",
       "      <td>10010202001</td>\n",
       "      <td>11010060001</td>\n",
       "      <td>0.011811</td>\n",
       "      <td>0.006179</td>\n",
       "    </tr>\n",
       "    <tr>\n",
       "      <th>182</th>\n",
       "      <td>10010202002</td>\n",
       "      <td>11010060001</td>\n",
       "      <td>0.011811</td>\n",
       "      <td>0.004454</td>\n",
       "    </tr>\n",
       "    <tr>\n",
       "      <th>269</th>\n",
       "      <td>10010203001</td>\n",
       "      <td>11010060001</td>\n",
       "      <td>0.021654</td>\n",
       "      <td>0.002450</td>\n",
       "    </tr>\n",
       "    <tr>\n",
       "      <th>...</th>\n",
       "      <td>...</td>\n",
       "      <td>...</td>\n",
       "      <td>...</td>\n",
       "      <td>...</td>\n",
       "    </tr>\n",
       "    <tr>\n",
       "      <th>257233</th>\n",
       "      <td>11250112001</td>\n",
       "      <td>11010060001</td>\n",
       "      <td>0.015748</td>\n",
       "      <td>0.000123</td>\n",
       "    </tr>\n",
       "    <tr>\n",
       "      <th>257759</th>\n",
       "      <td>11250114013</td>\n",
       "      <td>11010060001</td>\n",
       "      <td>0.005906</td>\n",
       "      <td>0.000557</td>\n",
       "    </tr>\n",
       "    <tr>\n",
       "      <th>259007</th>\n",
       "      <td>11250120003</td>\n",
       "      <td>11010060001</td>\n",
       "      <td>0.005906</td>\n",
       "      <td>0.000538</td>\n",
       "    </tr>\n",
       "    <tr>\n",
       "      <th>14151749</th>\n",
       "      <td>470370103012</td>\n",
       "      <td>11010060001</td>\n",
       "      <td>0.500000</td>\n",
       "      <td>0.000515</td>\n",
       "    </tr>\n",
       "    <tr>\n",
       "      <th>14419488</th>\n",
       "      <td>471650209023</td>\n",
       "      <td>11010060001</td>\n",
       "      <td>0.500000</td>\n",
       "      <td>0.000591</td>\n",
       "    </tr>\n",
       "  </tbody>\n",
       "</table>\n",
       "<p>62 rows × 4 columns</p>\n",
       "</div>"
      ]
     },
     "execution_count": 11,
     "metadata": {},
     "output_type": "execute_result"
    }
   ],
   "execution_count": 11
  },
  {
   "metadata": {
    "ExecuteTime": {
     "end_time": "2025-01-22T17:26:34.723128Z",
     "start_time": "2025-01-22T17:26:34.719848Z"
    }
   },
   "cell_type": "code",
   "source": "group_by_des.get_group(11010060001).sum()",
   "id": "6270d666e03a4526",
   "outputs": [
    {
     "data": {
      "text/plain": [
       "poi_cbg_source         1575296061608\n",
       "poi_cbg_destination     682623720062\n",
       "src_prob                         2.0\n",
       "des_prob                     0.26153\n",
       "dtype: object"
      ]
     },
     "execution_count": 12,
     "metadata": {},
     "output_type": "execute_result"
    }
   ],
   "execution_count": 12
  },
  {
   "metadata": {},
   "cell_type": "code",
   "outputs": [],
   "execution_count": null,
   "source": "",
   "id": "6b75b7eede53fb8c"
  }
 ],
 "metadata": {
  "kernelspec": {
   "display_name": "Python 3",
   "language": "python",
   "name": "python3"
  },
  "language_info": {
   "codemirror_mode": {
    "name": "ipython",
    "version": 2
   },
   "file_extension": ".py",
   "mimetype": "text/x-python",
   "name": "python",
   "nbconvert_exporter": "python",
   "pygments_lexer": "ipython2",
   "version": "2.7.6"
  }
 },
 "nbformat": 4,
 "nbformat_minor": 5
}
