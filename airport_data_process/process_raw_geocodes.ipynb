{
 "cells": [
  {
   "cell_type": "code",
   "id": "initial_id",
   "metadata": {
    "collapsed": true,
    "ExecuteTime": {
     "end_time": "2025-01-08T23:24:30.605281Z",
     "start_time": "2025-01-08T23:24:30.415004Z"
    }
   },
   "source": [
    "import pandas as pd\n",
    "import os\n",
    "import json"
   ],
   "outputs": [],
   "execution_count": 1
  },
  {
   "metadata": {
    "ExecuteTime": {
     "end_time": "2025-01-08T23:24:35.471807Z",
     "start_time": "2025-01-08T23:24:35.463778Z"
    }
   },
   "cell_type": "code",
   "source": [
    "data_dir = 'raw_api_output'\n",
    "files = os.listdir(data_dir)\n",
    "output_file = 'airports_GeoId.csv'\n",
    "fout = open(output_file, 'w')\n",
    "fout.write('iata_code,GeoId\\n')"
   ],
   "id": "8ccd15ae979f0f96",
   "outputs": [
    {
     "data": {
      "text/plain": [
       "16"
      ]
     },
     "execution_count": 2,
     "metadata": {},
     "output_type": "execute_result"
    }
   ],
   "execution_count": 2
  },
  {
   "metadata": {
    "ExecuteTime": {
     "end_time": "2025-01-08T23:24:36.771140Z",
     "start_time": "2025-01-08T23:24:36.650545Z"
    }
   },
   "cell_type": "code",
   "source": [
    "for file in files:\n",
    "    with open('%s/%s'%(data_dir,file)) as f:\n",
    "        fout.write(file.split('.')[0].split('_')[1] + ',')\n",
    "        data = json.load(f)\n",
    "        data = data['result']['geographies']\n",
    "        geoid = data['Census Blocks'][0]['GEOID'][:12]\n",
    "        fout.write(geoid + '\\n')\n",
    "fout.close()"
   ],
   "id": "cbfc0c02b99fce89",
   "outputs": [],
   "execution_count": 3
  },
  {
   "metadata": {
    "ExecuteTime": {
     "end_time": "2025-01-08T23:24:37.815041Z",
     "start_time": "2025-01-08T23:24:37.813063Z"
    }
   },
   "cell_type": "code",
   "source": "import subprocess",
   "id": "b28b5258d34a1e87",
   "outputs": [],
   "execution_count": 4
  },
  {
   "metadata": {
    "ExecuteTime": {
     "end_time": "2025-01-08T23:24:40.347467Z",
     "start_time": "2025-01-08T23:24:38.364115Z"
    }
   },
   "cell_type": "code",
   "source": [
    "proc = subprocess.Popen(['grep', '130510107013','../src_data/cbg2cbg.csv'],stdout=subprocess.PIPE)\n",
    "tmp = proc.stdout.read()\n",
    "tmp"
   ],
   "id": "79c5ede66834a37a",
   "outputs": [
    {
     "data": {
      "text/plain": [
       "b''"
      ]
     },
     "execution_count": 5,
     "metadata": {},
     "output_type": "execute_result"
    }
   ],
   "execution_count": 5
  },
  {
   "metadata": {
    "ExecuteTime": {
     "end_time": "2025-01-08T23:24:41.873971Z",
     "start_time": "2025-01-08T23:24:41.871090Z"
    }
   },
   "cell_type": "code",
   "source": "len(tmp)",
   "id": "4ff2b5fafe5fbe3b",
   "outputs": [
    {
     "data": {
      "text/plain": [
       "0"
      ]
     },
     "execution_count": 6,
     "metadata": {},
     "output_type": "execute_result"
    }
   ],
   "execution_count": 6
  },
  {
   "metadata": {
    "ExecuteTime": {
     "end_time": "2025-01-08T23:24:42.758783Z",
     "start_time": "2025-01-08T23:24:42.755681Z"
    }
   },
   "cell_type": "code",
   "source": [
    "fout = open('exist_airport_GeoId.csv', 'w')\n",
    "ishead = True"
   ],
   "id": "ecaa0c99f5d94b8d",
   "outputs": [],
   "execution_count": 7
  },
  {
   "metadata": {
    "ExecuteTime": {
     "end_time": "2025-01-08T23:26:36.041621Z",
     "start_time": "2025-01-08T23:24:43.416222Z"
    }
   },
   "cell_type": "code",
   "source": [
    "with open('airports_GeoId.csv', 'r') as f:\n",
    "    for line in f.readlines():\n",
    "        code, id = line.strip().split(',')\n",
    "        proc = subprocess.Popen(['grep', id,'../src_data/cbg2cbg.csv'],stdout=subprocess.PIPE)\n",
    "        tmp = proc.stdout.read()\n",
    "        if (len(tmp) > 0) or ishead:\n",
    "            fout.write(line)\n",
    "        ishead = False\n",
    "fout.close()"
   ],
   "id": "802d9c369278574b",
   "outputs": [],
   "execution_count": 8
  },
  {
   "metadata": {
    "ExecuteTime": {
     "end_time": "2025-01-08T23:27:30.084661Z",
     "start_time": "2025-01-08T23:27:30.075969Z"
    }
   },
   "cell_type": "code",
   "source": [
    "us_airports = pd.read_csv('../src_data/large_airports.csv')\n",
    "us_airports = us_airports[us_airports['iso_country'] == 'US'].reset_index(drop=True)"
   ],
   "id": "6ac52fdb2657017a",
   "outputs": [],
   "execution_count": 9
  },
  {
   "metadata": {
    "ExecuteTime": {
     "end_time": "2025-01-08T23:27:33.122842Z",
     "start_time": "2025-01-08T23:27:33.114455Z"
    }
   },
   "cell_type": "code",
   "source": [
    "airport_ids = pd.read_csv('exist_airport_GeoId.csv', dtype=str)\n",
    "airport_ids"
   ],
   "id": "58535a12a75507da",
   "outputs": [
    {
     "data": {
      "text/plain": [
       "   iata_code         GeoId\n",
       "0        ANC  020200023011\n",
       "1        PHX  040131138021\n",
       "2        CMA  061110056001\n",
       "3        LAX  060379800281\n",
       "4        OAK  060014090004\n",
       "..       ...           ...\n",
       "67       IAD  511079801001\n",
       "68       ORF  517109803001\n",
       "69       RIC  510879801001\n",
       "70       SEA  530330284024\n",
       "71       MKE  550790217005\n",
       "\n",
       "[72 rows x 2 columns]"
      ],
      "text/html": [
       "<div>\n",
       "<style scoped>\n",
       "    .dataframe tbody tr th:only-of-type {\n",
       "        vertical-align: middle;\n",
       "    }\n",
       "\n",
       "    .dataframe tbody tr th {\n",
       "        vertical-align: top;\n",
       "    }\n",
       "\n",
       "    .dataframe thead th {\n",
       "        text-align: right;\n",
       "    }\n",
       "</style>\n",
       "<table border=\"1\" class=\"dataframe\">\n",
       "  <thead>\n",
       "    <tr style=\"text-align: right;\">\n",
       "      <th></th>\n",
       "      <th>iata_code</th>\n",
       "      <th>GeoId</th>\n",
       "    </tr>\n",
       "  </thead>\n",
       "  <tbody>\n",
       "    <tr>\n",
       "      <th>0</th>\n",
       "      <td>ANC</td>\n",
       "      <td>020200023011</td>\n",
       "    </tr>\n",
       "    <tr>\n",
       "      <th>1</th>\n",
       "      <td>PHX</td>\n",
       "      <td>040131138021</td>\n",
       "    </tr>\n",
       "    <tr>\n",
       "      <th>2</th>\n",
       "      <td>CMA</td>\n",
       "      <td>061110056001</td>\n",
       "    </tr>\n",
       "    <tr>\n",
       "      <th>3</th>\n",
       "      <td>LAX</td>\n",
       "      <td>060379800281</td>\n",
       "    </tr>\n",
       "    <tr>\n",
       "      <th>4</th>\n",
       "      <td>OAK</td>\n",
       "      <td>060014090004</td>\n",
       "    </tr>\n",
       "    <tr>\n",
       "      <th>...</th>\n",
       "      <td>...</td>\n",
       "      <td>...</td>\n",
       "    </tr>\n",
       "    <tr>\n",
       "      <th>67</th>\n",
       "      <td>IAD</td>\n",
       "      <td>511079801001</td>\n",
       "    </tr>\n",
       "    <tr>\n",
       "      <th>68</th>\n",
       "      <td>ORF</td>\n",
       "      <td>517109803001</td>\n",
       "    </tr>\n",
       "    <tr>\n",
       "      <th>69</th>\n",
       "      <td>RIC</td>\n",
       "      <td>510879801001</td>\n",
       "    </tr>\n",
       "    <tr>\n",
       "      <th>70</th>\n",
       "      <td>SEA</td>\n",
       "      <td>530330284024</td>\n",
       "    </tr>\n",
       "    <tr>\n",
       "      <th>71</th>\n",
       "      <td>MKE</td>\n",
       "      <td>550790217005</td>\n",
       "    </tr>\n",
       "  </tbody>\n",
       "</table>\n",
       "<p>72 rows × 2 columns</p>\n",
       "</div>"
      ]
     },
     "execution_count": 10,
     "metadata": {},
     "output_type": "execute_result"
    }
   ],
   "execution_count": 10
  },
  {
   "metadata": {
    "ExecuteTime": {
     "end_time": "2025-01-08T23:27:35.251725Z",
     "start_time": "2025-01-08T23:27:35.245972Z"
    }
   },
   "cell_type": "code",
   "source": "mergerd = airport_ids.join(us_airports.set_index(\"iata_code\"), on='iata_code')",
   "id": "d1a6a0be3d7df34d",
   "outputs": [],
   "execution_count": 11
  },
  {
   "metadata": {
    "ExecuteTime": {
     "end_time": "2025-01-08T23:27:35.949725Z",
     "start_time": "2025-01-08T23:27:35.943821Z"
    }
   },
   "cell_type": "code",
   "source": "mergerd.to_csv('../src_data/airports_geoinfo.csv', index=False)",
   "id": "dd05ab3a23a47b6b",
   "outputs": [],
   "execution_count": 12
  },
  {
   "metadata": {},
   "cell_type": "code",
   "outputs": [],
   "execution_count": null,
   "source": "",
   "id": "12fc65f62da60355"
  }
 ],
 "metadata": {
  "kernelspec": {
   "display_name": "Python 3",
   "language": "python",
   "name": "python3"
  },
  "language_info": {
   "codemirror_mode": {
    "name": "ipython",
    "version": 2
   },
   "file_extension": ".py",
   "mimetype": "text/x-python",
   "name": "python",
   "nbconvert_exporter": "python",
   "pygments_lexer": "ipython2",
   "version": "2.7.6"
  }
 },
 "nbformat": 4,
 "nbformat_minor": 5
}
