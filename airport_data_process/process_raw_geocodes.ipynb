{
 "cells": [
  {
   "cell_type": "code",
   "id": "initial_id",
   "metadata": {
    "collapsed": true,
    "ExecuteTime": {
     "end_time": "2024-12-18T22:48:33.338177Z",
     "start_time": "2024-12-18T22:48:32.608303Z"
    }
   },
   "source": [
    "import pandas as pd\n",
    "import os\n",
    "import json"
   ],
   "outputs": [],
   "execution_count": 1
  },
  {
   "metadata": {
    "ExecuteTime": {
     "end_time": "2024-12-18T21:17:15.291918Z",
     "start_time": "2024-12-18T21:17:15.288253Z"
    }
   },
   "cell_type": "code",
   "source": [
    "data_dir = 'raw_api_output'\n",
    "files = os.listdir(data_dir)\n",
    "output_file = 'airports_GeoId.csv'\n",
    "fout = open(output_file, 'w')\n",
    "fout.write('iata_code,GeoId\\n')"
   ],
   "id": "8ccd15ae979f0f96",
   "outputs": [
    {
     "data": {
      "text/plain": [
       "16"
      ]
     },
     "execution_count": 27,
     "metadata": {},
     "output_type": "execute_result"
    }
   ],
   "execution_count": 27
  },
  {
   "metadata": {
    "jupyter": {
     "is_executing": true
    }
   },
   "cell_type": "code",
   "source": [
    "for file in files:\n",
    "    with open('%s/%s'%(data_dir,file)) as f:\n",
    "        fout.write(file.split('.')[0].split('_')[1] + ',')\n",
    "        data = json.load(f)\n",
    "        data = data['result']['geographies']\n",
    "        geoid = data['Census Blocks'][0]['GEOID'][:12]\n",
    "        fout.write(geoid + '\\n')\n",
    "fout.close()"
   ],
   "id": "cbfc0c02b99fce89",
   "outputs": [],
   "execution_count": null
  },
  {
   "metadata": {
    "ExecuteTime": {
     "end_time": "2024-12-18T22:48:37.741416Z",
     "start_time": "2024-12-18T22:48:37.739170Z"
    }
   },
   "cell_type": "code",
   "source": "import subprocess",
   "id": "b28b5258d34a1e87",
   "outputs": [],
   "execution_count": 2
  },
  {
   "metadata": {
    "ExecuteTime": {
     "end_time": "2024-12-18T22:49:37.325752Z",
     "start_time": "2024-12-18T22:49:36.697500Z"
    }
   },
   "cell_type": "code",
   "source": [
    "proc = subprocess.Popen(['grep', '130510107013','../src_data/cbg2cbg.csv'],stdout=subprocess.PIPE)\n",
    "tmp = proc.stdout.read()\n",
    "tmp"
   ],
   "id": "79c5ede66834a37a",
   "outputs": [
    {
     "data": {
      "text/plain": [
       "b''"
      ]
     },
     "execution_count": 5,
     "metadata": {},
     "output_type": "execute_result"
    }
   ],
   "execution_count": 5
  },
  {
   "metadata": {
    "ExecuteTime": {
     "end_time": "2024-12-18T22:49:45.931411Z",
     "start_time": "2024-12-18T22:49:45.927866Z"
    }
   },
   "cell_type": "code",
   "source": "len(tmp)",
   "id": "4ff2b5fafe5fbe3b",
   "outputs": [
    {
     "data": {
      "text/plain": [
       "0"
      ]
     },
     "execution_count": 6,
     "metadata": {},
     "output_type": "execute_result"
    }
   ],
   "execution_count": 6
  },
  {
   "metadata": {
    "ExecuteTime": {
     "end_time": "2024-12-18T23:07:59.677879Z",
     "start_time": "2024-12-18T23:07:59.675100Z"
    }
   },
   "cell_type": "code",
   "source": [
    "fout = open('exist_airport_GeoId.csv', 'w')\n",
    "ishead = True"
   ],
   "id": "ecaa0c99f5d94b8d",
   "outputs": [],
   "execution_count": 9
  },
  {
   "metadata": {
    "ExecuteTime": {
     "end_time": "2024-12-18T23:08:51.476531Z",
     "start_time": "2024-12-18T23:08:06.695624Z"
    }
   },
   "cell_type": "code",
   "source": [
    "with open('airports_GeoId.csv', 'r') as f:\n",
    "    for line in f.readlines():\n",
    "        code, id = line.strip().split(',')\n",
    "        proc = subprocess.Popen(['grep', id,'../src_data/cbg2cbg.csv'],stdout=subprocess.PIPE)\n",
    "        tmp = proc.stdout.read()\n",
    "        if (len(tmp) > 0) or ishead:\n",
    "            fout.write(line)\n",
    "        ishead = False\n",
    "fout.close()"
   ],
   "id": "802d9c369278574b",
   "outputs": [],
   "execution_count": 10
  },
  {
   "metadata": {
    "ExecuteTime": {
     "end_time": "2024-12-18T23:16:54.626163Z",
     "start_time": "2024-12-18T23:16:54.615689Z"
    }
   },
   "cell_type": "code",
   "source": [
    "us_airports = pd.read_csv('../src_data/large_airports.csv')\n",
    "us_airports = us_airports[us_airports['iso_country'] == 'US'].reset_index(drop=True)"
   ],
   "id": "6ac52fdb2657017a",
   "outputs": [],
   "execution_count": 11
  },
  {
   "metadata": {
    "ExecuteTime": {
     "end_time": "2024-12-18T23:19:44.836142Z",
     "start_time": "2024-12-18T23:19:44.829351Z"
    }
   },
   "cell_type": "code",
   "source": [
    "airport_ids = pd.read_csv('exist_airport_GeoId.csv', dtype=str)\n",
    "airport_ids"
   ],
   "id": "58535a12a75507da",
   "outputs": [
    {
     "data": {
      "text/plain": [
       "   iata_code         GeoId\n",
       "0        MEM  471579801001\n",
       "1        BOS  250259813001\n",
       "2        SMF  060670071011\n",
       "3        RDU  371839801001\n",
       "4        BWI  240039800001\n",
       "..       ...           ...\n",
       "56       JAX  120310103011\n",
       "57       MIA  120869805001\n",
       "58       PWM  230050020022\n",
       "59       LAS  320030068004\n",
       "60       BNA  470379801001\n",
       "\n",
       "[61 rows x 2 columns]"
      ],
      "text/html": [
       "<div>\n",
       "<style scoped>\n",
       "    .dataframe tbody tr th:only-of-type {\n",
       "        vertical-align: middle;\n",
       "    }\n",
       "\n",
       "    .dataframe tbody tr th {\n",
       "        vertical-align: top;\n",
       "    }\n",
       "\n",
       "    .dataframe thead th {\n",
       "        text-align: right;\n",
       "    }\n",
       "</style>\n",
       "<table border=\"1\" class=\"dataframe\">\n",
       "  <thead>\n",
       "    <tr style=\"text-align: right;\">\n",
       "      <th></th>\n",
       "      <th>iata_code</th>\n",
       "      <th>GeoId</th>\n",
       "    </tr>\n",
       "  </thead>\n",
       "  <tbody>\n",
       "    <tr>\n",
       "      <th>0</th>\n",
       "      <td>MEM</td>\n",
       "      <td>471579801001</td>\n",
       "    </tr>\n",
       "    <tr>\n",
       "      <th>1</th>\n",
       "      <td>BOS</td>\n",
       "      <td>250259813001</td>\n",
       "    </tr>\n",
       "    <tr>\n",
       "      <th>2</th>\n",
       "      <td>SMF</td>\n",
       "      <td>060670071011</td>\n",
       "    </tr>\n",
       "    <tr>\n",
       "      <th>3</th>\n",
       "      <td>RDU</td>\n",
       "      <td>371839801001</td>\n",
       "    </tr>\n",
       "    <tr>\n",
       "      <th>4</th>\n",
       "      <td>BWI</td>\n",
       "      <td>240039800001</td>\n",
       "    </tr>\n",
       "    <tr>\n",
       "      <th>...</th>\n",
       "      <td>...</td>\n",
       "      <td>...</td>\n",
       "    </tr>\n",
       "    <tr>\n",
       "      <th>56</th>\n",
       "      <td>JAX</td>\n",
       "      <td>120310103011</td>\n",
       "    </tr>\n",
       "    <tr>\n",
       "      <th>57</th>\n",
       "      <td>MIA</td>\n",
       "      <td>120869805001</td>\n",
       "    </tr>\n",
       "    <tr>\n",
       "      <th>58</th>\n",
       "      <td>PWM</td>\n",
       "      <td>230050020022</td>\n",
       "    </tr>\n",
       "    <tr>\n",
       "      <th>59</th>\n",
       "      <td>LAS</td>\n",
       "      <td>320030068004</td>\n",
       "    </tr>\n",
       "    <tr>\n",
       "      <th>60</th>\n",
       "      <td>BNA</td>\n",
       "      <td>470379801001</td>\n",
       "    </tr>\n",
       "  </tbody>\n",
       "</table>\n",
       "<p>61 rows × 2 columns</p>\n",
       "</div>"
      ]
     },
     "execution_count": 14,
     "metadata": {},
     "output_type": "execute_result"
    }
   ],
   "execution_count": 14
  },
  {
   "metadata": {
    "ExecuteTime": {
     "end_time": "2024-12-18T23:20:02.060410Z",
     "start_time": "2024-12-18T23:20:02.055996Z"
    }
   },
   "cell_type": "code",
   "source": "mergerd = airport_ids.join(us_airports.set_index(\"iata_code\"), on='iata_code')",
   "id": "d1a6a0be3d7df34d",
   "outputs": [],
   "execution_count": 16
  },
  {
   "metadata": {
    "ExecuteTime": {
     "end_time": "2024-12-18T23:20:31.035902Z",
     "start_time": "2024-12-18T23:20:31.031353Z"
    }
   },
   "cell_type": "code",
   "source": "mergerd.to_csv('../src_data/airports_geoinfo.csv', index=False)",
   "id": "dd05ab3a23a47b6b",
   "outputs": [],
   "execution_count": 17
  },
  {
   "metadata": {},
   "cell_type": "code",
   "outputs": [],
   "execution_count": null,
   "source": "",
   "id": "12fc65f62da60355"
  }
 ],
 "metadata": {
  "kernelspec": {
   "display_name": "Python 3",
   "language": "python",
   "name": "python3"
  },
  "language_info": {
   "codemirror_mode": {
    "name": "ipython",
    "version": 2
   },
   "file_extension": ".py",
   "mimetype": "text/x-python",
   "name": "python",
   "nbconvert_exporter": "python",
   "pygments_lexer": "ipython2",
   "version": "2.7.6"
  }
 },
 "nbformat": 4,
 "nbformat_minor": 5
}
