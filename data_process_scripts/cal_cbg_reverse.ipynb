{
 "cells": [
  {
   "cell_type": "code",
   "id": "initial_id",
   "metadata": {
    "collapsed": true,
    "ExecuteTime": {
     "end_time": "2025-01-22T17:33:25.188494Z",
     "start_time": "2025-01-22T17:33:24.952470Z"
    }
   },
   "source": [
    "import os\n",
    "import numpy as np\n",
    "import pandas as pd"
   ],
   "outputs": [],
   "execution_count": 1
  },
  {
   "metadata": {
    "ExecuteTime": {
     "end_time": "2025-01-22T17:27:54.378108Z",
     "start_time": "2025-01-22T17:27:54.232788Z"
    }
   },
   "cell_type": "code",
   "source": [
    "pop_data = pd.read_csv('src_data/usa_population_revise.csv')\n",
    "infection_chance_per_day=[0.2,0.3,0.2,0.1,0.1,0.1,0.1,0.1]\n",
    "cbg_names = [line[:-1] for line in open('src_data/cbg_name').readlines()]"
   ],
   "id": "e8880451b7d8a5db",
   "outputs": [],
   "execution_count": 3
  },
  {
   "metadata": {
    "ExecuteTime": {
     "end_time": "2025-01-22T17:28:00.665617Z",
     "start_time": "2025-01-22T17:27:54.379578Z"
    }
   },
   "cell_type": "code",
   "source": [
    "chunked_data = pd.read_csv('src_data/cbg2cbg.csv', chunksize=100000)\n",
    "chunk_list = []\n",
    "for chunk in chunked_data: \n",
    "    chunk_list.append(chunk)\n",
    "transport_data = pd.concat(chunk_list)\n",
    "transport_data"
   ],
   "id": "f37a2450607af2ea",
   "outputs": [
    {
     "data": {
      "text/plain": [
       "          poi_cbg_source poi_cbg_destination  number_of_visitors  probability\n",
       "0            10010201001         10010201001                  33     0.038239\n",
       "1            10010201001         10010202001                  15     0.017381\n",
       "2            10010201001         10010202002                  36     0.041715\n",
       "3            10010201001         10010203002                 113     0.130939\n",
       "4            10010201001         10010204003                   6     0.006952\n",
       "...                  ...                 ...                 ...          ...\n",
       "17423096    560459513003        560279572003                   6     0.008876\n",
       "17423097    560459513003        560459511002                   3     0.004438\n",
       "17423098    560459513003        560459513001                  69     0.102071\n",
       "17423099    560459513003        560459513002                 229     0.338757\n",
       "17423100    560459513003        560459513003                  50     0.073964\n",
       "\n",
       "[17423101 rows x 4 columns]"
      ],
      "text/html": [
       "<div>\n",
       "<style scoped>\n",
       "    .dataframe tbody tr th:only-of-type {\n",
       "        vertical-align: middle;\n",
       "    }\n",
       "\n",
       "    .dataframe tbody tr th {\n",
       "        vertical-align: top;\n",
       "    }\n",
       "\n",
       "    .dataframe thead th {\n",
       "        text-align: right;\n",
       "    }\n",
       "</style>\n",
       "<table border=\"1\" class=\"dataframe\">\n",
       "  <thead>\n",
       "    <tr style=\"text-align: right;\">\n",
       "      <th></th>\n",
       "      <th>poi_cbg_source</th>\n",
       "      <th>poi_cbg_destination</th>\n",
       "      <th>number_of_visitors</th>\n",
       "      <th>probability</th>\n",
       "    </tr>\n",
       "  </thead>\n",
       "  <tbody>\n",
       "    <tr>\n",
       "      <th>0</th>\n",
       "      <td>10010201001</td>\n",
       "      <td>10010201001</td>\n",
       "      <td>33</td>\n",
       "      <td>0.038239</td>\n",
       "    </tr>\n",
       "    <tr>\n",
       "      <th>1</th>\n",
       "      <td>10010201001</td>\n",
       "      <td>10010202001</td>\n",
       "      <td>15</td>\n",
       "      <td>0.017381</td>\n",
       "    </tr>\n",
       "    <tr>\n",
       "      <th>2</th>\n",
       "      <td>10010201001</td>\n",
       "      <td>10010202002</td>\n",
       "      <td>36</td>\n",
       "      <td>0.041715</td>\n",
       "    </tr>\n",
       "    <tr>\n",
       "      <th>3</th>\n",
       "      <td>10010201001</td>\n",
       "      <td>10010203002</td>\n",
       "      <td>113</td>\n",
       "      <td>0.130939</td>\n",
       "    </tr>\n",
       "    <tr>\n",
       "      <th>4</th>\n",
       "      <td>10010201001</td>\n",
       "      <td>10010204003</td>\n",
       "      <td>6</td>\n",
       "      <td>0.006952</td>\n",
       "    </tr>\n",
       "    <tr>\n",
       "      <th>...</th>\n",
       "      <td>...</td>\n",
       "      <td>...</td>\n",
       "      <td>...</td>\n",
       "      <td>...</td>\n",
       "    </tr>\n",
       "    <tr>\n",
       "      <th>17423096</th>\n",
       "      <td>560459513003</td>\n",
       "      <td>560279572003</td>\n",
       "      <td>6</td>\n",
       "      <td>0.008876</td>\n",
       "    </tr>\n",
       "    <tr>\n",
       "      <th>17423097</th>\n",
       "      <td>560459513003</td>\n",
       "      <td>560459511002</td>\n",
       "      <td>3</td>\n",
       "      <td>0.004438</td>\n",
       "    </tr>\n",
       "    <tr>\n",
       "      <th>17423098</th>\n",
       "      <td>560459513003</td>\n",
       "      <td>560459513001</td>\n",
       "      <td>69</td>\n",
       "      <td>0.102071</td>\n",
       "    </tr>\n",
       "    <tr>\n",
       "      <th>17423099</th>\n",
       "      <td>560459513003</td>\n",
       "      <td>560459513002</td>\n",
       "      <td>229</td>\n",
       "      <td>0.338757</td>\n",
       "    </tr>\n",
       "    <tr>\n",
       "      <th>17423100</th>\n",
       "      <td>560459513003</td>\n",
       "      <td>560459513003</td>\n",
       "      <td>50</td>\n",
       "      <td>0.073964</td>\n",
       "    </tr>\n",
       "  </tbody>\n",
       "</table>\n",
       "<p>17423101 rows × 4 columns</p>\n",
       "</div>"
      ]
     },
     "execution_count": 4,
     "metadata": {},
     "output_type": "execute_result"
    }
   ],
   "execution_count": 4
  },
  {
   "metadata": {
    "ExecuteTime": {
     "end_time": "2025-01-22T17:28:02.680070Z",
     "start_time": "2025-01-22T17:28:00.666872Z"
    }
   },
   "cell_type": "code",
   "source": "transport_data['visitor_per_src'] = transport_data.groupby('poi_cbg_destination')['number_of_visitors'].transform('sum')",
   "id": "5264476f8e7bfb2a",
   "outputs": [],
   "execution_count": 5
  },
  {
   "metadata": {
    "ExecuteTime": {
     "end_time": "2025-01-22T17:28:02.999915Z",
     "start_time": "2025-01-22T17:28:02.680872Z"
    }
   },
   "cell_type": "code",
   "source": "transport_data['src_prob'] = transport_data['number_of_visitors']/transport_data['visitor_per_src']",
   "id": "a3d8145c6b1fa2a4",
   "outputs": [],
   "execution_count": 6
  },
  {
   "metadata": {
    "ExecuteTime": {
     "end_time": "2025-01-22T17:28:03.020686Z",
     "start_time": "2025-01-22T17:28:03.000611Z"
    }
   },
   "cell_type": "code",
   "source": "transport_data['des_prob'] = transport_data['probability']",
   "id": "51a4f870c935884",
   "outputs": [],
   "execution_count": 7
  },
  {
   "metadata": {
    "ExecuteTime": {
     "end_time": "2025-01-22T17:28:03.566715Z",
     "start_time": "2025-01-22T17:28:03.021561Z"
    }
   },
   "cell_type": "code",
   "source": "transport_data = transport_data[['poi_cbg_source','poi_cbg_destination','src_prob','des_prob']]",
   "id": "3ade8a50e5bd6418",
   "outputs": [],
   "execution_count": 8
  },
  {
   "metadata": {
    "ExecuteTime": {
     "end_time": "2025-01-22T17:28:05.732388Z",
     "start_time": "2025-01-22T17:28:03.567529Z"
    }
   },
   "cell_type": "code",
   "source": [
    "grouped_data = transport_data.groupby('poi_cbg_destination')\n",
    "grouped_data.get_group(490351130131)"
   ],
   "id": "c9229146224c1f8b",
   "outputs": [
    {
     "data": {
      "text/plain": [
       "          poi_cbg_source poi_cbg_destination  src_prob  des_prob\n",
       "290184       40050007002        490351130131  0.000522  0.000543\n",
       "1887957      60599800001        490351130131  0.000522  0.000018\n",
       "2401477      60750123011        490351130131  0.000522  0.000053\n",
       "3068773      80919676004        490351130131  0.000522  0.002400\n",
       "4811748     130510003001        490351130131  0.000522  0.000121\n",
       "...                  ...                 ...       ...       ...\n",
       "16296449    490490101092        490351130131  0.001045  0.000766\n",
       "16296929    490490101112        490351130131  0.000522  0.000759\n",
       "16297540    490490101132        490351130131  0.008880  0.009317\n",
       "16298124    490490102101        490351130131  0.001567  0.004754\n",
       "16304543    490519604001        490351130131  0.000522  0.000624\n",
       "\n",
       "[142 rows x 4 columns]"
      ],
      "text/html": [
       "<div>\n",
       "<style scoped>\n",
       "    .dataframe tbody tr th:only-of-type {\n",
       "        vertical-align: middle;\n",
       "    }\n",
       "\n",
       "    .dataframe tbody tr th {\n",
       "        vertical-align: top;\n",
       "    }\n",
       "\n",
       "    .dataframe thead th {\n",
       "        text-align: right;\n",
       "    }\n",
       "</style>\n",
       "<table border=\"1\" class=\"dataframe\">\n",
       "  <thead>\n",
       "    <tr style=\"text-align: right;\">\n",
       "      <th></th>\n",
       "      <th>poi_cbg_source</th>\n",
       "      <th>poi_cbg_destination</th>\n",
       "      <th>src_prob</th>\n",
       "      <th>des_prob</th>\n",
       "    </tr>\n",
       "  </thead>\n",
       "  <tbody>\n",
       "    <tr>\n",
       "      <th>290184</th>\n",
       "      <td>40050007002</td>\n",
       "      <td>490351130131</td>\n",
       "      <td>0.000522</td>\n",
       "      <td>0.000543</td>\n",
       "    </tr>\n",
       "    <tr>\n",
       "      <th>1887957</th>\n",
       "      <td>60599800001</td>\n",
       "      <td>490351130131</td>\n",
       "      <td>0.000522</td>\n",
       "      <td>0.000018</td>\n",
       "    </tr>\n",
       "    <tr>\n",
       "      <th>2401477</th>\n",
       "      <td>60750123011</td>\n",
       "      <td>490351130131</td>\n",
       "      <td>0.000522</td>\n",
       "      <td>0.000053</td>\n",
       "    </tr>\n",
       "    <tr>\n",
       "      <th>3068773</th>\n",
       "      <td>80919676004</td>\n",
       "      <td>490351130131</td>\n",
       "      <td>0.000522</td>\n",
       "      <td>0.002400</td>\n",
       "    </tr>\n",
       "    <tr>\n",
       "      <th>4811748</th>\n",
       "      <td>130510003001</td>\n",
       "      <td>490351130131</td>\n",
       "      <td>0.000522</td>\n",
       "      <td>0.000121</td>\n",
       "    </tr>\n",
       "    <tr>\n",
       "      <th>...</th>\n",
       "      <td>...</td>\n",
       "      <td>...</td>\n",
       "      <td>...</td>\n",
       "      <td>...</td>\n",
       "    </tr>\n",
       "    <tr>\n",
       "      <th>16296449</th>\n",
       "      <td>490490101092</td>\n",
       "      <td>490351130131</td>\n",
       "      <td>0.001045</td>\n",
       "      <td>0.000766</td>\n",
       "    </tr>\n",
       "    <tr>\n",
       "      <th>16296929</th>\n",
       "      <td>490490101112</td>\n",
       "      <td>490351130131</td>\n",
       "      <td>0.000522</td>\n",
       "      <td>0.000759</td>\n",
       "    </tr>\n",
       "    <tr>\n",
       "      <th>16297540</th>\n",
       "      <td>490490101132</td>\n",
       "      <td>490351130131</td>\n",
       "      <td>0.008880</td>\n",
       "      <td>0.009317</td>\n",
       "    </tr>\n",
       "    <tr>\n",
       "      <th>16298124</th>\n",
       "      <td>490490102101</td>\n",
       "      <td>490351130131</td>\n",
       "      <td>0.001567</td>\n",
       "      <td>0.004754</td>\n",
       "    </tr>\n",
       "    <tr>\n",
       "      <th>16304543</th>\n",
       "      <td>490519604001</td>\n",
       "      <td>490351130131</td>\n",
       "      <td>0.000522</td>\n",
       "      <td>0.000624</td>\n",
       "    </tr>\n",
       "  </tbody>\n",
       "</table>\n",
       "<p>142 rows × 4 columns</p>\n",
       "</div>"
      ]
     },
     "execution_count": 9,
     "metadata": {},
     "output_type": "execute_result"
    }
   ],
   "execution_count": 9
  },
  {
   "metadata": {
    "ExecuteTime": {
     "end_time": "2025-01-22T17:28:05.737682Z",
     "start_time": "2025-01-22T17:28:05.733223Z"
    }
   },
   "cell_type": "code",
   "source": "grouped_data.get_group(490351152091).sum()",
   "id": "9a7f1318756aefd8",
   "outputs": [
    {
     "data": {
      "text/plain": [
       "poi_cbg_source         54892333468839\n",
       "poi_cbg_destination    56880733642556\n",
       "src_prob                          1.0\n",
       "des_prob                     0.840365\n",
       "dtype: object"
      ]
     },
     "execution_count": 10,
     "metadata": {},
     "output_type": "execute_result"
    }
   ],
   "execution_count": 10
  },
  {
   "cell_type": "code",
   "source": "transport_data.to_csv('src_data/cbg2cbg_revise.csv', index=False)",
   "metadata": {
    "collapsed": false,
    "jupyter": {
     "is_executing": true
    },
    "ExecuteTime": {
     "start_time": "2025-01-22T17:28:05.740392Z"
    }
   },
   "id": "f7f7905bd950c28f",
   "outputs": [],
   "execution_count": null
  },
  {
   "cell_type": "code",
   "source": [
    "chunked_data = pd.read_csv('src_data/cbg2cbg_revise.csv', chunksize=100000)\n",
    "chunk_list = []\n",
    "for chunk in chunked_data:\n",
    "    chunk_list.append(chunk)\n",
    "transport_data_r = pd.concat(chunk_list)\n",
    "transport_data_r"
   ],
   "metadata": {
    "collapsed": false,
    "ExecuteTime": {
     "end_time": "2025-01-22T17:33:37.592014Z",
     "start_time": "2025-01-22T17:33:31.250969Z"
    }
   },
   "id": "c3d3e333e535c82c",
   "outputs": [
    {
     "data": {
      "text/plain": [
       "          poi_cbg_source poi_cbg_destination  src_prob  des_prob\n",
       "0            10010201001         10010201001  0.050305  0.038239\n",
       "1            10010201001         10010202001  0.039683  0.017381\n",
       "2            10010201001         10010202002  0.018538  0.041715\n",
       "3            10010201001         10010203002  0.015597  0.130939\n",
       "4            10010201001         10010204003  0.006445  0.006952\n",
       "...                  ...                 ...       ...       ...\n",
       "17423096    560459513003        560279572003  0.009756  0.008876\n",
       "17423097    560459513003        560459511002  0.333333  0.004438\n",
       "17423098    560459513003        560459513001  0.274900  0.102071\n",
       "17423099    560459513003        560459513002  0.202834  0.338757\n",
       "17423100    560459513003        560459513003  0.199203  0.073964\n",
       "\n",
       "[17423101 rows x 4 columns]"
      ],
      "text/html": [
       "<div>\n",
       "<style scoped>\n",
       "    .dataframe tbody tr th:only-of-type {\n",
       "        vertical-align: middle;\n",
       "    }\n",
       "\n",
       "    .dataframe tbody tr th {\n",
       "        vertical-align: top;\n",
       "    }\n",
       "\n",
       "    .dataframe thead th {\n",
       "        text-align: right;\n",
       "    }\n",
       "</style>\n",
       "<table border=\"1\" class=\"dataframe\">\n",
       "  <thead>\n",
       "    <tr style=\"text-align: right;\">\n",
       "      <th></th>\n",
       "      <th>poi_cbg_source</th>\n",
       "      <th>poi_cbg_destination</th>\n",
       "      <th>src_prob</th>\n",
       "      <th>des_prob</th>\n",
       "    </tr>\n",
       "  </thead>\n",
       "  <tbody>\n",
       "    <tr>\n",
       "      <th>0</th>\n",
       "      <td>10010201001</td>\n",
       "      <td>10010201001</td>\n",
       "      <td>0.050305</td>\n",
       "      <td>0.038239</td>\n",
       "    </tr>\n",
       "    <tr>\n",
       "      <th>1</th>\n",
       "      <td>10010201001</td>\n",
       "      <td>10010202001</td>\n",
       "      <td>0.039683</td>\n",
       "      <td>0.017381</td>\n",
       "    </tr>\n",
       "    <tr>\n",
       "      <th>2</th>\n",
       "      <td>10010201001</td>\n",
       "      <td>10010202002</td>\n",
       "      <td>0.018538</td>\n",
       "      <td>0.041715</td>\n",
       "    </tr>\n",
       "    <tr>\n",
       "      <th>3</th>\n",
       "      <td>10010201001</td>\n",
       "      <td>10010203002</td>\n",
       "      <td>0.015597</td>\n",
       "      <td>0.130939</td>\n",
       "    </tr>\n",
       "    <tr>\n",
       "      <th>4</th>\n",
       "      <td>10010201001</td>\n",
       "      <td>10010204003</td>\n",
       "      <td>0.006445</td>\n",
       "      <td>0.006952</td>\n",
       "    </tr>\n",
       "    <tr>\n",
       "      <th>...</th>\n",
       "      <td>...</td>\n",
       "      <td>...</td>\n",
       "      <td>...</td>\n",
       "      <td>...</td>\n",
       "    </tr>\n",
       "    <tr>\n",
       "      <th>17423096</th>\n",
       "      <td>560459513003</td>\n",
       "      <td>560279572003</td>\n",
       "      <td>0.009756</td>\n",
       "      <td>0.008876</td>\n",
       "    </tr>\n",
       "    <tr>\n",
       "      <th>17423097</th>\n",
       "      <td>560459513003</td>\n",
       "      <td>560459511002</td>\n",
       "      <td>0.333333</td>\n",
       "      <td>0.004438</td>\n",
       "    </tr>\n",
       "    <tr>\n",
       "      <th>17423098</th>\n",
       "      <td>560459513003</td>\n",
       "      <td>560459513001</td>\n",
       "      <td>0.274900</td>\n",
       "      <td>0.102071</td>\n",
       "    </tr>\n",
       "    <tr>\n",
       "      <th>17423099</th>\n",
       "      <td>560459513003</td>\n",
       "      <td>560459513002</td>\n",
       "      <td>0.202834</td>\n",
       "      <td>0.338757</td>\n",
       "    </tr>\n",
       "    <tr>\n",
       "      <th>17423100</th>\n",
       "      <td>560459513003</td>\n",
       "      <td>560459513003</td>\n",
       "      <td>0.199203</td>\n",
       "      <td>0.073964</td>\n",
       "    </tr>\n",
       "  </tbody>\n",
       "</table>\n",
       "<p>17423101 rows × 4 columns</p>\n",
       "</div>"
      ]
     },
     "execution_count": 2,
     "metadata": {},
     "output_type": "execute_result"
    }
   ],
   "execution_count": 2
  },
  {
   "metadata": {
    "ExecuteTime": {
     "end_time": "2025-01-22T17:33:41.186022Z",
     "start_time": "2025-01-22T17:33:41.183169Z"
    }
   },
   "cell_type": "code",
   "source": "group_by_des = transport_data_r.groupby('poi_cbg_destination')",
   "id": "29dadca20bdb4abf",
   "outputs": [],
   "execution_count": 3
  },
  {
   "metadata": {
    "ExecuteTime": {
     "end_time": "2025-01-22T17:33:42.727662Z",
     "start_time": "2025-01-22T17:33:41.186754Z"
    }
   },
   "cell_type": "code",
   "source": "group_by_des.get_group(11010060001).sum()",
   "id": "d5529568e51bc908",
   "outputs": [
    {
     "data": {
      "text/plain": [
       "poi_cbg_source         633275749573\n",
       "poi_cbg_destination    660603600060\n",
       "src_prob                        1.0\n",
       "des_prob                   0.260424\n",
       "dtype: object"
      ]
     },
     "execution_count": 4,
     "metadata": {},
     "output_type": "execute_result"
    }
   ],
   "execution_count": 4
  },
  {
   "metadata": {},
   "cell_type": "code",
   "outputs": [],
   "execution_count": null,
   "source": "",
   "id": "fe057e73d518bd2e"
  }
 ],
 "metadata": {
  "kernelspec": {
   "display_name": "Python 3",
   "language": "python",
   "name": "python3"
  },
  "language_info": {
   "codemirror_mode": {
    "name": "ipython",
    "version": 2
   },
   "file_extension": ".py",
   "mimetype": "text/x-python",
   "name": "python",
   "nbconvert_exporter": "python",
   "pygments_lexer": "ipython2",
   "version": "2.7.6"
  }
 },
 "nbformat": 4,
 "nbformat_minor": 5
}
