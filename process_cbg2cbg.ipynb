{
 "cells": [
  {
   "cell_type": "code",
   "id": "initial_id",
   "metadata": {
    "collapsed": true,
    "ExecuteTime": {
     "end_time": "2024-09-03T20:29:13.623950Z",
     "start_time": "2024-09-03T20:29:13.621857Z"
    }
   },
   "source": [
    "import os\n",
    "import numpy as np\n",
    "import pandas as pd"
   ],
   "outputs": [],
   "execution_count": 7
  },
  {
   "metadata": {
    "ExecuteTime": {
     "end_time": "2024-09-03T20:29:14.040890Z",
     "start_time": "2024-09-03T20:29:14.038862Z"
    }
   },
   "cell_type": "code",
   "source": [
    "ORI_DATA = 'src_data/mpox_2quick_weekly_pgraph.csv'\n",
    "OUT_DATA = 'src_data/cbg2cbg.csv'"
   ],
   "id": "146008c58fe1e3a0",
   "outputs": [],
   "execution_count": 8
  },
  {
   "metadata": {
    "ExecuteTime": {
     "end_time": "2024-09-03T17:14:33.238614Z",
     "start_time": "2024-09-03T17:14:28.962006Z"
    }
   },
   "cell_type": "code",
   "source": [
    "fout = open(OUT_DATA, 'w')\n",
    "with open(ORI_DATA, 'r') as f:\n",
    "    for line in f.readlines():\n",
    "        if 'CA' not in line:\n",
    "            fout.write(line)\n",
    "fout.close()"
   ],
   "id": "bc87726649e8dc26",
   "outputs": [],
   "execution_count": 19
  },
  {
   "metadata": {
    "ExecuteTime": {
     "end_time": "2024-09-03T17:44:11.787077Z",
     "start_time": "2024-09-03T17:44:11.784423Z"
    }
   },
   "cell_type": "code",
   "source": [
    "OUT_DIR = 'src_data/cbg_data/'\n",
    "if not os.path.exists(OUT_DIR):\n",
    "    os.makedirs(OUT_DIR)"
   ],
   "id": "693751c5ccd65209",
   "outputs": [],
   "execution_count": 32
  },
  {
   "metadata": {
    "ExecuteTime": {
     "end_time": "2024-09-03T17:47:29.486228Z",
     "start_time": "2024-09-03T17:47:20.698729Z"
    }
   },
   "cell_type": "code",
   "source": [
    "with open(OUT_DIR + 'cbg_name', 'w') as fout:\n",
    "    isheader = True\n",
    "    cbgNames = set()\n",
    "    with open(OUT_DATA, 'r') as f:\n",
    "        for line in f.readlines():\n",
    "            if isheader:\n",
    "                isheader = False\n",
    "                continue\n",
    "            cbgNames.add(line.strip().split(',')[0])\n",
    "            cbgNames.add(line.strip().split(',')[1])\n",
    "    cbgNames = list(cbgNames)\n",
    "    for cbg in cbgNames:\n",
    "        fout.write(cbg + '\\n')"
   ],
   "id": "bd99e191fa7d677b",
   "outputs": [],
   "execution_count": 36
  },
  {
   "metadata": {
    "ExecuteTime": {
     "end_time": "2024-09-03T18:34:25.828802Z",
     "start_time": "2024-09-03T18:34:25.826066Z"
    }
   },
   "cell_type": "code",
   "source": [
    "OUT_DIR2 = 'src_data/cbg_data/cbg2cbg/'\n",
    "if not os.path.exists(OUT_DIR2):\n",
    "    os.makedirs(OUT_DIR2)"
   ],
   "id": "c6a9b39c1dd1958a",
   "outputs": [],
   "execution_count": 42
  },
  {
   "metadata": {
    "ExecuteTime": {
     "end_time": "2024-09-03T20:29:54.857136Z",
     "start_time": "2024-09-03T20:29:54.855287Z"
    }
   },
   "cell_type": "code",
   "source": "import random",
   "id": "9cbb8b3e18ad3797",
   "outputs": [],
   "execution_count": 13
  },
  {
   "metadata": {
    "ExecuteTime": {
     "end_time": "2024-09-03T20:37:54.805102Z",
     "start_time": "2024-09-03T20:37:54.802345Z"
    }
   },
   "cell_type": "code",
   "source": [
    "def get_ramdom_dest(src_df):\n",
    "    randval = random.random()\n",
    "    cumprob = src_df['probability'].cumsum()\n",
    "    sumprob = src_df['probability'].sum()\n",
    "    if sumprob == 0:\n",
    "        return \n",
    "    randval *= sumprob\n",
    "    checkprob = 0\n",
    "    for des, prob in zip(src_df['poi_cbg_destination'], cumprob):\n",
    "        if checkprob == prob:\n",
    "            continue\n",
    "        if randval < prob:\n",
    "            return des\n",
    "    return src_df.loc[-1,'poi_cbg_destination']"
   ],
   "id": "b7e79b448079b749",
   "outputs": [],
   "execution_count": 26
  },
  {
   "metadata": {
    "ExecuteTime": {
     "end_time": "2024-09-03T20:29:01.397781Z",
     "start_time": "2024-09-03T20:29:01.391091Z"
    }
   },
   "cell_type": "code",
   "source": [
    "def recalculate(group):\n",
    "    group = group.copy()\n",
    "    group.drop(columns=['poi_cbg_source'], inplace=True)\n",
    "\n",
    "    sumprob = group['probability'].sum()\n",
    "    if abs(sumprob) < 1e-18:  # Handle very small sums close to zero\n",
    "        return group\n",
    "    group['probability'] = group['probability'].div(sumprob)\n",
    "\n",
    "    return group"
   ],
   "id": "7ee9512f679279e4",
   "outputs": [],
   "execution_count": 6
  },
  {
   "metadata": {
    "ExecuteTime": {
     "end_time": "2024-09-03T20:29:28.730387Z",
     "start_time": "2024-09-03T20:29:23.210923Z"
    }
   },
   "cell_type": "code",
   "source": [
    "chunked_data = pd.read_csv(OUT_DATA, chunksize=100000)\n",
    "chunk_list = []\n",
    "for chunk in chunked_data:\n",
    "    chunk_list.append(chunk)\n",
    "df = pd.concat(chunk_list)"
   ],
   "id": "e75ff697b1016fc3",
   "outputs": [],
   "execution_count": 10
  },
  {
   "metadata": {
    "ExecuteTime": {
     "end_time": "2024-09-03T20:29:42.721655Z",
     "start_time": "2024-09-03T20:29:42.709051Z"
    }
   },
   "cell_type": "code",
   "source": "df",
   "id": "dd55cf339536ddd2",
   "outputs": [
    {
     "data": {
      "text/plain": [
       "          poi_cbg_source poi_cbg_destination  number_of_visitors  probability\n",
       "0            10010201001         10010201001                  33     0.038239\n",
       "1            10010201001         10010202001                  15     0.017381\n",
       "2            10010201001         10010202002                  36     0.041715\n",
       "3            10010201001         10010203002                 113     0.130939\n",
       "4            10010201001         10010204003                   6     0.006952\n",
       "...                  ...                 ...                 ...          ...\n",
       "17423096    560459513003        560279572003                   6     0.008876\n",
       "17423097    560459513003        560459511002                   3     0.004438\n",
       "17423098    560459513003        560459513001                  69     0.102071\n",
       "17423099    560459513003        560459513002                 229     0.338757\n",
       "17423100    560459513003        560459513003                  50     0.073964\n",
       "\n",
       "[17423101 rows x 4 columns]"
      ],
      "text/html": [
       "<div>\n",
       "<style scoped>\n",
       "    .dataframe tbody tr th:only-of-type {\n",
       "        vertical-align: middle;\n",
       "    }\n",
       "\n",
       "    .dataframe tbody tr th {\n",
       "        vertical-align: top;\n",
       "    }\n",
       "\n",
       "    .dataframe thead th {\n",
       "        text-align: right;\n",
       "    }\n",
       "</style>\n",
       "<table border=\"1\" class=\"dataframe\">\n",
       "  <thead>\n",
       "    <tr style=\"text-align: right;\">\n",
       "      <th></th>\n",
       "      <th>poi_cbg_source</th>\n",
       "      <th>poi_cbg_destination</th>\n",
       "      <th>number_of_visitors</th>\n",
       "      <th>probability</th>\n",
       "    </tr>\n",
       "  </thead>\n",
       "  <tbody>\n",
       "    <tr>\n",
       "      <th>0</th>\n",
       "      <td>10010201001</td>\n",
       "      <td>10010201001</td>\n",
       "      <td>33</td>\n",
       "      <td>0.038239</td>\n",
       "    </tr>\n",
       "    <tr>\n",
       "      <th>1</th>\n",
       "      <td>10010201001</td>\n",
       "      <td>10010202001</td>\n",
       "      <td>15</td>\n",
       "      <td>0.017381</td>\n",
       "    </tr>\n",
       "    <tr>\n",
       "      <th>2</th>\n",
       "      <td>10010201001</td>\n",
       "      <td>10010202002</td>\n",
       "      <td>36</td>\n",
       "      <td>0.041715</td>\n",
       "    </tr>\n",
       "    <tr>\n",
       "      <th>3</th>\n",
       "      <td>10010201001</td>\n",
       "      <td>10010203002</td>\n",
       "      <td>113</td>\n",
       "      <td>0.130939</td>\n",
       "    </tr>\n",
       "    <tr>\n",
       "      <th>4</th>\n",
       "      <td>10010201001</td>\n",
       "      <td>10010204003</td>\n",
       "      <td>6</td>\n",
       "      <td>0.006952</td>\n",
       "    </tr>\n",
       "    <tr>\n",
       "      <th>...</th>\n",
       "      <td>...</td>\n",
       "      <td>...</td>\n",
       "      <td>...</td>\n",
       "      <td>...</td>\n",
       "    </tr>\n",
       "    <tr>\n",
       "      <th>17423096</th>\n",
       "      <td>560459513003</td>\n",
       "      <td>560279572003</td>\n",
       "      <td>6</td>\n",
       "      <td>0.008876</td>\n",
       "    </tr>\n",
       "    <tr>\n",
       "      <th>17423097</th>\n",
       "      <td>560459513003</td>\n",
       "      <td>560459511002</td>\n",
       "      <td>3</td>\n",
       "      <td>0.004438</td>\n",
       "    </tr>\n",
       "    <tr>\n",
       "      <th>17423098</th>\n",
       "      <td>560459513003</td>\n",
       "      <td>560459513001</td>\n",
       "      <td>69</td>\n",
       "      <td>0.102071</td>\n",
       "    </tr>\n",
       "    <tr>\n",
       "      <th>17423099</th>\n",
       "      <td>560459513003</td>\n",
       "      <td>560459513002</td>\n",
       "      <td>229</td>\n",
       "      <td>0.338757</td>\n",
       "    </tr>\n",
       "    <tr>\n",
       "      <th>17423100</th>\n",
       "      <td>560459513003</td>\n",
       "      <td>560459513003</td>\n",
       "      <td>50</td>\n",
       "      <td>0.073964</td>\n",
       "    </tr>\n",
       "  </tbody>\n",
       "</table>\n",
       "<p>17423101 rows × 4 columns</p>\n",
       "</div>"
      ]
     },
     "execution_count": 11,
     "metadata": {},
     "output_type": "execute_result"
    }
   ],
   "execution_count": 11
  },
  {
   "metadata": {
    "ExecuteTime": {
     "end_time": "2024-09-03T20:37:10.878451Z",
     "start_time": "2024-09-03T20:37:09.660407Z"
    }
   },
   "cell_type": "code",
   "source": "get_ramdom_dest(df.groupby('poi_cbg_source').get_group(10010201001))",
   "id": "3190e74a8f5b9fdf",
   "outputs": [
    {
     "name": "stdout",
     "output_type": "stream",
     "text": [
      "0.08194242474010716\n",
      "0.9826187717265332\n",
      "0.08051816475041798\n",
      "10010201001 0.0382387022016222\n",
      "10010202001 0.0382387022016222\n",
      "10010202002 0.0799536500579373\n",
      "10010203002 0.21089223638470428\n"
     ]
    },
    {
     "data": {
      "text/plain": [
       "10010203002"
      ]
     },
     "execution_count": 25,
     "metadata": {},
     "output_type": "execute_result"
    }
   ],
   "execution_count": 25
  },
  {
   "metadata": {
    "ExecuteTime": {
     "end_time": "2024-09-03T20:31:45.182749Z",
     "start_time": "2024-09-03T20:31:44.395267Z"
    }
   },
   "cell_type": "code",
   "source": [
    "remove_idx = df[df['poi_cbg_destination'] == 10010202001].index\n",
    "df.loc[remove_idx, 'probability'] = 0\n",
    "df"
   ],
   "id": "608a87030e99cb24",
   "outputs": [
    {
     "data": {
      "text/plain": [
       "          poi_cbg_source poi_cbg_destination  number_of_visitors  probability\n",
       "0            10010201001         10010201001                  33     0.038239\n",
       "1            10010201001         10010202001                  15     0.000000\n",
       "2            10010201001         10010202002                  36     0.041715\n",
       "3            10010201001         10010203002                 113     0.130939\n",
       "4            10010201001         10010204003                   6     0.006952\n",
       "...                  ...                 ...                 ...          ...\n",
       "17423096    560459513003        560279572003                   6     0.008876\n",
       "17423097    560459513003        560459511002                   3     0.004438\n",
       "17423098    560459513003        560459513001                  69     0.102071\n",
       "17423099    560459513003        560459513002                 229     0.338757\n",
       "17423100    560459513003        560459513003                  50     0.073964\n",
       "\n",
       "[17423101 rows x 4 columns]"
      ],
      "text/html": [
       "<div>\n",
       "<style scoped>\n",
       "    .dataframe tbody tr th:only-of-type {\n",
       "        vertical-align: middle;\n",
       "    }\n",
       "\n",
       "    .dataframe tbody tr th {\n",
       "        vertical-align: top;\n",
       "    }\n",
       "\n",
       "    .dataframe thead th {\n",
       "        text-align: right;\n",
       "    }\n",
       "</style>\n",
       "<table border=\"1\" class=\"dataframe\">\n",
       "  <thead>\n",
       "    <tr style=\"text-align: right;\">\n",
       "      <th></th>\n",
       "      <th>poi_cbg_source</th>\n",
       "      <th>poi_cbg_destination</th>\n",
       "      <th>number_of_visitors</th>\n",
       "      <th>probability</th>\n",
       "    </tr>\n",
       "  </thead>\n",
       "  <tbody>\n",
       "    <tr>\n",
       "      <th>0</th>\n",
       "      <td>10010201001</td>\n",
       "      <td>10010201001</td>\n",
       "      <td>33</td>\n",
       "      <td>0.038239</td>\n",
       "    </tr>\n",
       "    <tr>\n",
       "      <th>1</th>\n",
       "      <td>10010201001</td>\n",
       "      <td>10010202001</td>\n",
       "      <td>15</td>\n",
       "      <td>0.000000</td>\n",
       "    </tr>\n",
       "    <tr>\n",
       "      <th>2</th>\n",
       "      <td>10010201001</td>\n",
       "      <td>10010202002</td>\n",
       "      <td>36</td>\n",
       "      <td>0.041715</td>\n",
       "    </tr>\n",
       "    <tr>\n",
       "      <th>3</th>\n",
       "      <td>10010201001</td>\n",
       "      <td>10010203002</td>\n",
       "      <td>113</td>\n",
       "      <td>0.130939</td>\n",
       "    </tr>\n",
       "    <tr>\n",
       "      <th>4</th>\n",
       "      <td>10010201001</td>\n",
       "      <td>10010204003</td>\n",
       "      <td>6</td>\n",
       "      <td>0.006952</td>\n",
       "    </tr>\n",
       "    <tr>\n",
       "      <th>...</th>\n",
       "      <td>...</td>\n",
       "      <td>...</td>\n",
       "      <td>...</td>\n",
       "      <td>...</td>\n",
       "    </tr>\n",
       "    <tr>\n",
       "      <th>17423096</th>\n",
       "      <td>560459513003</td>\n",
       "      <td>560279572003</td>\n",
       "      <td>6</td>\n",
       "      <td>0.008876</td>\n",
       "    </tr>\n",
       "    <tr>\n",
       "      <th>17423097</th>\n",
       "      <td>560459513003</td>\n",
       "      <td>560459511002</td>\n",
       "      <td>3</td>\n",
       "      <td>0.004438</td>\n",
       "    </tr>\n",
       "    <tr>\n",
       "      <th>17423098</th>\n",
       "      <td>560459513003</td>\n",
       "      <td>560459513001</td>\n",
       "      <td>69</td>\n",
       "      <td>0.102071</td>\n",
       "    </tr>\n",
       "    <tr>\n",
       "      <th>17423099</th>\n",
       "      <td>560459513003</td>\n",
       "      <td>560459513002</td>\n",
       "      <td>229</td>\n",
       "      <td>0.338757</td>\n",
       "    </tr>\n",
       "    <tr>\n",
       "      <th>17423100</th>\n",
       "      <td>560459513003</td>\n",
       "      <td>560459513003</td>\n",
       "      <td>50</td>\n",
       "      <td>0.073964</td>\n",
       "    </tr>\n",
       "  </tbody>\n",
       "</table>\n",
       "<p>17423101 rows × 4 columns</p>\n",
       "</div>"
      ]
     },
     "execution_count": 17,
     "metadata": {},
     "output_type": "execute_result"
    }
   ],
   "execution_count": 17
  },
  {
   "metadata": {},
   "cell_type": "code",
   "outputs": [],
   "execution_count": null,
   "source": "",
   "id": "133ef53f53acc9f0"
  }
 ],
 "metadata": {
  "kernelspec": {
   "display_name": "Python 3",
   "language": "python",
   "name": "python3"
  },
  "language_info": {
   "codemirror_mode": {
    "name": "ipython",
    "version": 2
   },
   "file_extension": ".py",
   "mimetype": "text/x-python",
   "name": "python",
   "nbconvert_exporter": "python",
   "pygments_lexer": "ipython2",
   "version": "2.7.6"
  }
 },
 "nbformat": 4,
 "nbformat_minor": 5
}
