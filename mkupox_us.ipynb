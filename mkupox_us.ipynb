{
 "cells": [
  {
   "cell_type": "code",
   "id": "initial_id",
   "metadata": {
    "collapsed": true,
    "ExecuteTime": {
     "end_time": "2024-09-05T20:01:23.299781Z",
     "start_time": "2024-09-05T20:01:23.018798Z"
    }
   },
   "source": [
    "import os\n",
    "import numpy as np\n",
    "import pandas as pd"
   ],
   "outputs": [],
   "execution_count": 1
  },
  {
   "metadata": {
    "ExecuteTime": {
     "end_time": "2024-09-05T20:28:40.235091Z",
     "start_time": "2024-09-05T20:28:40.138961Z"
    }
   },
   "cell_type": "code",
   "source": [
    "pop_data = pd.read_csv('src_data/usa_population_revise.csv')\n",
    "infection_chance_per_day=[0.2,0.3,0.2,0.1,0.1,0.1,0.1,0.1]\n",
    "cbg_names = [line[:-1] for line in open('src_data/cbg_name').readlines()]"
   ],
   "id": "e8880451b7d8a5db",
   "outputs": [],
   "execution_count": 2
  },
  {
   "metadata": {
    "ExecuteTime": {
     "end_time": "2024-09-05T20:34:56.301677Z",
     "start_time": "2024-09-05T20:34:50.617648Z"
    }
   },
   "cell_type": "code",
   "source": [
    "chunked_data = pd.read_csv('src_data/cbg2cbg.csv', chunksize=100000)\n",
    "chunk_list = []\n",
    "for chunk in chunked_data: \n",
    "    chunk_list.append(chunk)\n",
    "transport_data = pd.concat(chunk_list)\n",
    "transport_data"
   ],
   "id": "f37a2450607af2ea",
   "outputs": [
    {
     "data": {
      "text/plain": "          poi_cbg_source poi_cbg_destination  number_of_visitors  probability\n0            10010201001         10010201001                  33     0.038239\n1            10010201001         10010202001                  15     0.017381\n2            10010201001         10010202002                  36     0.041715\n3            10010201001         10010203002                 113     0.130939\n4            10010201001         10010204003                   6     0.006952\n...                  ...                 ...                 ...          ...\n17423096    560459513003        560279572003                   6     0.008876\n17423097    560459513003        560459511002                   3     0.004438\n17423098    560459513003        560459513001                  69     0.102071\n17423099    560459513003        560459513002                 229     0.338757\n17423100    560459513003        560459513003                  50     0.073964\n\n[17423101 rows x 4 columns]",
      "text/html": "<div>\n<style scoped>\n    .dataframe tbody tr th:only-of-type {\n        vertical-align: middle;\n    }\n\n    .dataframe tbody tr th {\n        vertical-align: top;\n    }\n\n    .dataframe thead th {\n        text-align: right;\n    }\n</style>\n<table border=\"1\" class=\"dataframe\">\n  <thead>\n    <tr style=\"text-align: right;\">\n      <th></th>\n      <th>poi_cbg_source</th>\n      <th>poi_cbg_destination</th>\n      <th>number_of_visitors</th>\n      <th>probability</th>\n    </tr>\n  </thead>\n  <tbody>\n    <tr>\n      <th>0</th>\n      <td>10010201001</td>\n      <td>10010201001</td>\n      <td>33</td>\n      <td>0.038239</td>\n    </tr>\n    <tr>\n      <th>1</th>\n      <td>10010201001</td>\n      <td>10010202001</td>\n      <td>15</td>\n      <td>0.017381</td>\n    </tr>\n    <tr>\n      <th>2</th>\n      <td>10010201001</td>\n      <td>10010202002</td>\n      <td>36</td>\n      <td>0.041715</td>\n    </tr>\n    <tr>\n      <th>3</th>\n      <td>10010201001</td>\n      <td>10010203002</td>\n      <td>113</td>\n      <td>0.130939</td>\n    </tr>\n    <tr>\n      <th>4</th>\n      <td>10010201001</td>\n      <td>10010204003</td>\n      <td>6</td>\n      <td>0.006952</td>\n    </tr>\n    <tr>\n      <th>...</th>\n      <td>...</td>\n      <td>...</td>\n      <td>...</td>\n      <td>...</td>\n    </tr>\n    <tr>\n      <th>17423096</th>\n      <td>560459513003</td>\n      <td>560279572003</td>\n      <td>6</td>\n      <td>0.008876</td>\n    </tr>\n    <tr>\n      <th>17423097</th>\n      <td>560459513003</td>\n      <td>560459511002</td>\n      <td>3</td>\n      <td>0.004438</td>\n    </tr>\n    <tr>\n      <th>17423098</th>\n      <td>560459513003</td>\n      <td>560459513001</td>\n      <td>69</td>\n      <td>0.102071</td>\n    </tr>\n    <tr>\n      <th>17423099</th>\n      <td>560459513003</td>\n      <td>560459513002</td>\n      <td>229</td>\n      <td>0.338757</td>\n    </tr>\n    <tr>\n      <th>17423100</th>\n      <td>560459513003</td>\n      <td>560459513003</td>\n      <td>50</td>\n      <td>0.073964</td>\n    </tr>\n  </tbody>\n</table>\n<p>17423101 rows × 4 columns</p>\n</div>"
     },
     "execution_count": 16,
     "metadata": {},
     "output_type": "execute_result"
    }
   ],
   "execution_count": 16
  },
  {
   "metadata": {
    "ExecuteTime": {
     "end_time": "2024-09-05T20:43:19.949991Z",
     "start_time": "2024-09-05T20:43:19.541346Z"
    }
   },
   "cell_type": "code",
   "source": [
    "transport_data['des_prob'] = transport_data['probability']\n",
    "transport_data['src_prob'] = 0\n",
    "grouped_data = transport_data.groupby('poi_cbg_destination')"
   ],
   "id": "369da65567716279",
   "outputs": [],
   "execution_count": 17
  },
  {
   "cell_type": "code",
   "execution_count": 21,
   "outputs": [],
   "source": [
    "transport_data['src_prob'] = transport_data.groupby('poi_cbg_destination')['number_of_visitors'].transform(sum)"
   ],
   "metadata": {
    "collapsed": false
   }
  },
  {
   "cell_type": "code",
   "execution_count": 23,
   "outputs": [
    {
     "data": {
      "text/plain": "          poi_cbg_source poi_cbg_destination  number_of_visitors  probability  \\\n0            10010201001         10010201001                  33     0.038239   \n1            10010201001         10010202001                  15     0.017381   \n2            10010201001         10010202002                  36     0.041715   \n3            10010201001         10010203002                 113     0.130939   \n4            10010201001         10010204003                   6     0.006952   \n...                  ...                 ...                 ...          ...   \n17423096    560459513003        560279572003                   6     0.008876   \n17423097    560459513003        560459511002                   3     0.004438   \n17423098    560459513003        560459513001                  69     0.102071   \n17423099    560459513003        560459513002                 229     0.338757   \n17423100    560459513003        560459513003                  50     0.073964   \n\n          des_prob  src_prob  \n0         0.038239  0.050305  \n1         0.017381  0.039683  \n2         0.041715  0.018538  \n3         0.130939  0.015597  \n4         0.006952  0.006445  \n...            ...       ...  \n17423096  0.008876  0.009756  \n17423097  0.004438  0.333333  \n17423098  0.102071  0.274900  \n17423099  0.338757  0.202834  \n17423100  0.073964  0.199203  \n\n[17423101 rows x 6 columns]",
      "text/html": "<div>\n<style scoped>\n    .dataframe tbody tr th:only-of-type {\n        vertical-align: middle;\n    }\n\n    .dataframe tbody tr th {\n        vertical-align: top;\n    }\n\n    .dataframe thead th {\n        text-align: right;\n    }\n</style>\n<table border=\"1\" class=\"dataframe\">\n  <thead>\n    <tr style=\"text-align: right;\">\n      <th></th>\n      <th>poi_cbg_source</th>\n      <th>poi_cbg_destination</th>\n      <th>number_of_visitors</th>\n      <th>probability</th>\n      <th>des_prob</th>\n      <th>src_prob</th>\n    </tr>\n  </thead>\n  <tbody>\n    <tr>\n      <th>0</th>\n      <td>10010201001</td>\n      <td>10010201001</td>\n      <td>33</td>\n      <td>0.038239</td>\n      <td>0.038239</td>\n      <td>0.050305</td>\n    </tr>\n    <tr>\n      <th>1</th>\n      <td>10010201001</td>\n      <td>10010202001</td>\n      <td>15</td>\n      <td>0.017381</td>\n      <td>0.017381</td>\n      <td>0.039683</td>\n    </tr>\n    <tr>\n      <th>2</th>\n      <td>10010201001</td>\n      <td>10010202002</td>\n      <td>36</td>\n      <td>0.041715</td>\n      <td>0.041715</td>\n      <td>0.018538</td>\n    </tr>\n    <tr>\n      <th>3</th>\n      <td>10010201001</td>\n      <td>10010203002</td>\n      <td>113</td>\n      <td>0.130939</td>\n      <td>0.130939</td>\n      <td>0.015597</td>\n    </tr>\n    <tr>\n      <th>4</th>\n      <td>10010201001</td>\n      <td>10010204003</td>\n      <td>6</td>\n      <td>0.006952</td>\n      <td>0.006952</td>\n      <td>0.006445</td>\n    </tr>\n    <tr>\n      <th>...</th>\n      <td>...</td>\n      <td>...</td>\n      <td>...</td>\n      <td>...</td>\n      <td>...</td>\n      <td>...</td>\n    </tr>\n    <tr>\n      <th>17423096</th>\n      <td>560459513003</td>\n      <td>560279572003</td>\n      <td>6</td>\n      <td>0.008876</td>\n      <td>0.008876</td>\n      <td>0.009756</td>\n    </tr>\n    <tr>\n      <th>17423097</th>\n      <td>560459513003</td>\n      <td>560459511002</td>\n      <td>3</td>\n      <td>0.004438</td>\n      <td>0.004438</td>\n      <td>0.333333</td>\n    </tr>\n    <tr>\n      <th>17423098</th>\n      <td>560459513003</td>\n      <td>560459513001</td>\n      <td>69</td>\n      <td>0.102071</td>\n      <td>0.102071</td>\n      <td>0.274900</td>\n    </tr>\n    <tr>\n      <th>17423099</th>\n      <td>560459513003</td>\n      <td>560459513002</td>\n      <td>229</td>\n      <td>0.338757</td>\n      <td>0.338757</td>\n      <td>0.202834</td>\n    </tr>\n    <tr>\n      <th>17423100</th>\n      <td>560459513003</td>\n      <td>560459513003</td>\n      <td>50</td>\n      <td>0.073964</td>\n      <td>0.073964</td>\n      <td>0.199203</td>\n    </tr>\n  </tbody>\n</table>\n<p>17423101 rows × 6 columns</p>\n</div>"
     },
     "execution_count": 23,
     "metadata": {},
     "output_type": "execute_result"
    }
   ],
   "source": [
    "transport_data['src_prob'] = transport_data['number_of_visitors']/transport_data['src_prob']\n",
    "transport_data"
   ],
   "metadata": {
    "collapsed": false
   }
  },
  {
   "cell_type": "code",
   "execution_count": 24,
   "outputs": [],
   "source": [
    "grouped_data = transport_data.groupby('poi_cbg_destination')"
   ],
   "metadata": {
    "collapsed": false
   }
  },
  {
   "cell_type": "code",
   "execution_count": 28,
   "outputs": [
    {
     "data": {
      "text/plain": "1.0000000000000004"
     },
     "execution_count": 28,
     "metadata": {},
     "output_type": "execute_result"
    }
   ],
   "source": [
    "df = grouped_data.get_group(10010208023)\n",
    "df['src_prob'].sum()"
   ],
   "metadata": {
    "collapsed": false
   }
  },
  {
   "cell_type": "code",
   "execution_count": 27,
   "outputs": [
    {
     "data": {
      "text/plain": "0.26181210494260465"
     },
     "execution_count": 27,
     "metadata": {},
     "output_type": "execute_result"
    }
   ],
   "source": [
    "df['src_prob'].sum()"
   ],
   "metadata": {
    "collapsed": false
   }
  },
  {
   "cell_type": "code",
   "execution_count": 29,
   "outputs": [],
   "source": [
    "transport_data = transport_data[['poi_cbg_source','poi_cbg_destination','src_prob','des_prob']]"
   ],
   "metadata": {
    "collapsed": false
   }
  },
  {
   "cell_type": "code",
   "execution_count": 30,
   "outputs": [],
   "source": [
    "transport_data.to_csv('src_data/cbg2cbg_revise.csv', index=False)"
   ],
   "metadata": {
    "collapsed": false
   }
  },
  {
   "cell_type": "code",
   "execution_count": null,
   "outputs": [],
   "source": [],
   "metadata": {
    "collapsed": false
   }
  }
 ],
 "metadata": {
  "kernelspec": {
   "display_name": "Python 3",
   "language": "python",
   "name": "python3"
  },
  "language_info": {
   "codemirror_mode": {
    "name": "ipython",
    "version": 2
   },
   "file_extension": ".py",
   "mimetype": "text/x-python",
   "name": "python",
   "nbconvert_exporter": "python",
   "pygments_lexer": "ipython2",
   "version": "2.7.6"
  }
 },
 "nbformat": 4,
 "nbformat_minor": 5
}
