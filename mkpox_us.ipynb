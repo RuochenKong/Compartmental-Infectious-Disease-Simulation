{
 "cells": [
  {
   "cell_type": "code",
   "execution_count": 1,
   "metadata": {
    "collapsed": true
   },
   "outputs": [],
   "source": [
    "import pandas as pd\n",
    "import numpy as np\n",
    "import random\n",
    "import os\n",
    "import matplotlib.pyplot as plt"
   ]
  },
  {
   "cell_type": "code",
   "execution_count": 2,
   "outputs": [
    {
     "data": {
      "text/plain": "          poi_cbg_source poi_cbg_destination  src_prob  des_prob\n0            10010201001         10010201001  0.050305  0.038239\n1            10010201001         10010202001  0.039683  0.017381\n2            10010201001         10010202002  0.018538  0.041715\n3            10010201001         10010203002  0.015597  0.130939\n4            10010201001         10010204003  0.006445  0.006952\n...                  ...                 ...       ...       ...\n17423096    560459513003        560279572003  0.009756  0.008876\n17423097    560459513003        560459511002  0.333333  0.004438\n17423098    560459513003        560459513001  0.274900  0.102071\n17423099    560459513003        560459513002  0.202834  0.338757\n17423100    560459513003        560459513003  0.199203  0.073964\n\n[17423101 rows x 4 columns]",
      "text/html": "<div>\n<style scoped>\n    .dataframe tbody tr th:only-of-type {\n        vertical-align: middle;\n    }\n\n    .dataframe tbody tr th {\n        vertical-align: top;\n    }\n\n    .dataframe thead th {\n        text-align: right;\n    }\n</style>\n<table border=\"1\" class=\"dataframe\">\n  <thead>\n    <tr style=\"text-align: right;\">\n      <th></th>\n      <th>poi_cbg_source</th>\n      <th>poi_cbg_destination</th>\n      <th>src_prob</th>\n      <th>des_prob</th>\n    </tr>\n  </thead>\n  <tbody>\n    <tr>\n      <th>0</th>\n      <td>10010201001</td>\n      <td>10010201001</td>\n      <td>0.050305</td>\n      <td>0.038239</td>\n    </tr>\n    <tr>\n      <th>1</th>\n      <td>10010201001</td>\n      <td>10010202001</td>\n      <td>0.039683</td>\n      <td>0.017381</td>\n    </tr>\n    <tr>\n      <th>2</th>\n      <td>10010201001</td>\n      <td>10010202002</td>\n      <td>0.018538</td>\n      <td>0.041715</td>\n    </tr>\n    <tr>\n      <th>3</th>\n      <td>10010201001</td>\n      <td>10010203002</td>\n      <td>0.015597</td>\n      <td>0.130939</td>\n    </tr>\n    <tr>\n      <th>4</th>\n      <td>10010201001</td>\n      <td>10010204003</td>\n      <td>0.006445</td>\n      <td>0.006952</td>\n    </tr>\n    <tr>\n      <th>...</th>\n      <td>...</td>\n      <td>...</td>\n      <td>...</td>\n      <td>...</td>\n    </tr>\n    <tr>\n      <th>17423096</th>\n      <td>560459513003</td>\n      <td>560279572003</td>\n      <td>0.009756</td>\n      <td>0.008876</td>\n    </tr>\n    <tr>\n      <th>17423097</th>\n      <td>560459513003</td>\n      <td>560459511002</td>\n      <td>0.333333</td>\n      <td>0.004438</td>\n    </tr>\n    <tr>\n      <th>17423098</th>\n      <td>560459513003</td>\n      <td>560459513001</td>\n      <td>0.274900</td>\n      <td>0.102071</td>\n    </tr>\n    <tr>\n      <th>17423099</th>\n      <td>560459513003</td>\n      <td>560459513002</td>\n      <td>0.202834</td>\n      <td>0.338757</td>\n    </tr>\n    <tr>\n      <th>17423100</th>\n      <td>560459513003</td>\n      <td>560459513003</td>\n      <td>0.199203</td>\n      <td>0.073964</td>\n    </tr>\n  </tbody>\n</table>\n<p>17423101 rows × 4 columns</p>\n</div>"
     },
     "execution_count": 2,
     "metadata": {},
     "output_type": "execute_result"
    }
   ],
   "source": [
    "chunked_data = pd.read_csv('src_data/cbg2cbg_revise.csv', chunksize=100000)\n",
    "chunk_list = []\n",
    "for chunk in chunked_data:\n",
    "    chunk_list.append(chunk)\n",
    "transport_data = pd.concat(chunk_list)\n",
    "transport_data"
   ],
   "metadata": {
    "collapsed": false
   }
  },
  {
   "cell_type": "code",
   "execution_count": 3,
   "outputs": [
    {
     "data": {
      "text/plain": "               GeoId  Population\n0        10010201001       730.0\n1        10010201002      1263.0\n2        10010202001       835.0\n3        10010202002      1124.0\n4        10010203001      2774.0\n...              ...         ...\n220329  721537506011       883.0\n220330  721537506012      2523.0\n220331  721537506013       991.0\n220332  721537506021      1577.0\n220333  721537506022       648.0\n\n[220334 rows x 2 columns]",
      "text/html": "<div>\n<style scoped>\n    .dataframe tbody tr th:only-of-type {\n        vertical-align: middle;\n    }\n\n    .dataframe tbody tr th {\n        vertical-align: top;\n    }\n\n    .dataframe thead th {\n        text-align: right;\n    }\n</style>\n<table border=\"1\" class=\"dataframe\">\n  <thead>\n    <tr style=\"text-align: right;\">\n      <th></th>\n      <th>GeoId</th>\n      <th>Population</th>\n    </tr>\n  </thead>\n  <tbody>\n    <tr>\n      <th>0</th>\n      <td>10010201001</td>\n      <td>730.0</td>\n    </tr>\n    <tr>\n      <th>1</th>\n      <td>10010201002</td>\n      <td>1263.0</td>\n    </tr>\n    <tr>\n      <th>2</th>\n      <td>10010202001</td>\n      <td>835.0</td>\n    </tr>\n    <tr>\n      <th>3</th>\n      <td>10010202002</td>\n      <td>1124.0</td>\n    </tr>\n    <tr>\n      <th>4</th>\n      <td>10010203001</td>\n      <td>2774.0</td>\n    </tr>\n    <tr>\n      <th>...</th>\n      <td>...</td>\n      <td>...</td>\n    </tr>\n    <tr>\n      <th>220329</th>\n      <td>721537506011</td>\n      <td>883.0</td>\n    </tr>\n    <tr>\n      <th>220330</th>\n      <td>721537506012</td>\n      <td>2523.0</td>\n    </tr>\n    <tr>\n      <th>220331</th>\n      <td>721537506013</td>\n      <td>991.0</td>\n    </tr>\n    <tr>\n      <th>220332</th>\n      <td>721537506021</td>\n      <td>1577.0</td>\n    </tr>\n    <tr>\n      <th>220333</th>\n      <td>721537506022</td>\n      <td>648.0</td>\n    </tr>\n  </tbody>\n</table>\n<p>220334 rows × 2 columns</p>\n</div>"
     },
     "execution_count": 3,
     "metadata": {},
     "output_type": "execute_result"
    }
   ],
   "source": [
    "pop_data = pd.read_csv('src_data/usa_population_revise.csv')\n",
    "infection_chance_per_day=[0.2,0.3,0.2,0.1,0.1,0.1,0.1,0.1]\n",
    "src_cbg_names = list(transport_data['poi_cbg_source'].unique())\n",
    "pop_data"
   ],
   "metadata": {
    "collapsed": false
   }
  },
  {
   "cell_type": "code",
   "execution_count": 4,
   "outputs": [
    {
     "data": {
      "text/plain": "216733"
     },
     "execution_count": 4,
     "metadata": {},
     "output_type": "execute_result"
    }
   ],
   "source": [
    "n_src_CBG = len(src_cbg_names)\n",
    "n_src_CBG"
   ],
   "metadata": {
    "collapsed": false
   }
  },
  {
   "cell_type": "code",
   "execution_count": 5,
   "outputs": [],
   "source": [
    "def get_random_des(src_df):\n",
    "    randval = random.random()\n",
    "    cumprob = src_df['des_prob'].cumsum()\n",
    "    sumprob = src_df['des_prob'].sum()\n",
    "    if sumprob == 0:\n",
    "        return\n",
    "    randval *= sumprob\n",
    "    checkprob = 0\n",
    "    for des, prob in zip(src_df['poi_cbg_destination'], cumprob):\n",
    "        if checkprob == prob:\n",
    "            continue\n",
    "        if randval < prob:\n",
    "            return des\n",
    "    return src_df.loc[-1,'poi_cbg_destination']\n",
    "\n",
    "def get_random_src(des_df):\n",
    "    randval = random.random()\n",
    "    cumprob = des_df['src_prob'].cumsum()\n",
    "    sumprob = des_df['src_prob'].sum()\n",
    "    if sumprob == 0:\n",
    "        return\n",
    "    randval *= sumprob\n",
    "    checkprob = 0\n",
    "    for src, prob in zip(des_df['poi_cbg_source'], cumprob):\n",
    "        if checkprob == prob:\n",
    "            continue\n",
    "        if randval < prob:\n",
    "            return src\n",
    "    return des_df.loc[-1,'poi_cbg_source']"
   ],
   "metadata": {
    "collapsed": false
   }
  },
  {
   "cell_type": "code",
   "execution_count": 7,
   "outputs": [
    {
     "data": {
      "text/plain": "121319506036"
     },
     "execution_count": 7,
     "metadata": {},
     "output_type": "execute_result"
    }
   ],
   "source": [
    "random_src = src_cbg_names[random.randint(0,n_src_CBG-1)]\n",
    "random_src"
   ],
   "metadata": {
    "collapsed": false
   }
  },
  {
   "cell_type": "code",
   "execution_count": 8,
   "outputs": [],
   "source": [
    "group_by_src = transport_data.groupby('poi_cbg_source')\n",
    "group_by_des = transport_data.groupby('poi_cbg_destination')"
   ],
   "metadata": {
    "collapsed": false
   }
  },
  {
   "cell_type": "code",
   "execution_count": 37,
   "outputs": [],
   "source": [
    "def initCounter():\n",
    "    per_day_S = pop_data.copy()\n",
    "    per_day_S = per_day_S.set_index('GeoId')\n",
    "    per_day_S = per_day_S.rename(columns={'Population':'Day1'})\n",
    "    per_day_I = per_day_S.copy()\n",
    "    per_day_I['Day1'] = 0\n",
    "    per_day_R = per_day_I.copy()\n",
    "\n",
    "    return [per_day_S,per_day_I,per_day_R]"
   ],
   "metadata": {
    "collapsed": false
   }
  },
  {
   "cell_type": "code",
   "execution_count": 39,
   "outputs": [],
   "source": [
    "def initCase(counters, new_case_nums = [1], new_case_CBGs = None):\n",
    "    if new_case_CBGs is None:\n",
    "        new_case_CBGs = [src_cbg_names[random.randint(0,n_src_CBG-1)]]\n",
    "\n",
    "    active_cases = [] # list of [cbg, numday]\n",
    "    for case_num, case_cbg in zip(new_case_nums,new_case_CBGs):\n",
    "        case_num = min(counters[0].loc[case_cbg,'Day1'],case_num)\n",
    "        counters[0].loc[case_cbg,'Day1'] -= case_num\n",
    "        counters[1].loc[case_cbg,'Day1'] += case_num\n",
    "\n",
    "        for _ in range(case_num):\n",
    "            active_cases.append([case_cbg,0])\n",
    "\n",
    "    return active_cases"
   ],
   "metadata": {
    "collapsed": false
   }
  },
  {
   "cell_type": "code",
   "execution_count": 42,
   "outputs": [],
   "source": [
    "def nextDay(counters, current_day, active_cases):\n",
    "    current_col = 'Day%d'%current_day\n",
    "    for i in range(3):\n",
    "        counters[i][current_col] = counters[i]['Day%d'%(current_day-1)].copy()\n",
    "\n",
    "    new_active_cases = []\n",
    "    i = 0\n",
    "    while i < range(len(active_cases)):\n",
    "        src_cbg, num_day = active_cases[i]\n",
    "        if random.random() < infection_chance_per_day[num_day]:\n",
    "            des_cbg = get_random_des(group_by_src.get_group(src_cbg))\n",
    "            rev_src_cbg = get_random_src(group_by_des.get_group(des_cbg))\n",
    "\n",
    "            if counters[0].loc[rev_src_cbg,current_col] == 0:\n",
    "                print('cbg %d full'% src_cbg)\n",
    "            else: # activate a new case\n",
    "                counters[0].loc[rev_src_cbg,current_col] -= 1\n",
    "                counters[1].loc[rev_src_cbg,current_col] += 1\n",
    "                # collect new case\n",
    "                new_active_cases.append([rev_src_cbg, 0])\n",
    "\n",
    "        active_cases[i][1] += 1\n",
    "        if active_cases[i][1] == len(infection_chance_per_day):\n",
    "            infection_chance_per_day.pop(i)\n",
    "            # one case recover\n",
    "            counters[1].loc[src_cbg,current_col] -= 1\n",
    "            counters[2].loc[src_cbg,current_col] += 1\n",
    "        else:\n",
    "            i += 1"
   ],
   "metadata": {
    "collapsed": false
   }
  },
  {
   "cell_type": "code",
   "execution_count": null,
   "outputs": [],
   "source": [],
   "metadata": {
    "collapsed": false
   }
  }
 ],
 "metadata": {
  "kernelspec": {
   "display_name": "Python 3",
   "language": "python",
   "name": "python3"
  },
  "language_info": {
   "codemirror_mode": {
    "name": "ipython",
    "version": 2
   },
   "file_extension": ".py",
   "mimetype": "text/x-python",
   "name": "python",
   "nbconvert_exporter": "python",
   "pygments_lexer": "ipython2",
   "version": "2.7.6"
  }
 },
 "nbformat": 4,
 "nbformat_minor": 0
}
