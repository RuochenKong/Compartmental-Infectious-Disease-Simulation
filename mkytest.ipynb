{
 "cells": [
  {
   "cell_type": "code",
   "id": "22172fe8b0bb2d9f",
   "metadata": {
    "ExecuteTime": {
     "end_time": "2024-08-27T22:28:44.073234Z",
     "start_time": "2024-08-27T22:28:43.845434Z"
    }
   },
   "source": [
    "import os\n",
    "import numpy as np\n",
    "import pandas as pd\n",
    "import matplotlib.pyplot as plt\n",
    "import random"
   ],
   "outputs": [],
   "execution_count": 5
  },
  {
   "cell_type": "code",
   "id": "c58e8182d2b61b14",
   "metadata": {
    "ExecuteTime": {
     "end_time": "2024-08-27T22:28:45.546762Z",
     "start_time": "2024-08-27T22:28:45.446986Z"
    }
   },
   "source": [
    "RAW_FILE = 'src_data/mpox_pgraph.csv'\n",
    "pop_data = pd.read_csv('src_data/population.csv')\n",
    "infection_chance_per_day=[0.2,0.3,0.2,0.1]\n",
    "cbgNames = set()\n",
    "trans_data = {}"
   ],
   "outputs": [],
   "execution_count": 6
  },
  {
   "cell_type": "code",
   "id": "46259634910f6d6c",
   "metadata": {
    "ExecuteTime": {
     "end_time": "2024-08-27T22:28:52.458940Z",
     "start_time": "2024-08-27T22:28:52.424653Z"
    }
   },
   "source": [
    "isheader = True\n",
    "with open(RAW_FILE, 'r') as f:\n",
    "    for line in f.readlines():\n",
    "        if isheader:\n",
    "            isheader = False\n",
    "            continue\n",
    "        cbgNames.add(line.strip().split(',')[0])\n",
    "cbgNames = list(cbgNames)"
   ],
   "outputs": [],
   "execution_count": 7
  },
  {
   "cell_type": "code",
   "id": "c1d7a816f1d83c6a",
   "metadata": {
    "ExecuteTime": {
     "end_time": "2024-08-27T22:28:54.391389Z",
     "start_time": "2024-08-27T22:28:53.818162Z"
    }
   },
   "source": [
    "isheader = True\n",
    "with open(RAW_FILE, 'r') as f:\n",
    "    for line in f.readlines():\n",
    "        if isheader:\n",
    "            isheader = False\n",
    "            continue\n",
    "        \n",
    "        line = line.strip().split(',')\n",
    "        fromCBG = cbgNames.index(line[0])\n",
    "        toCBG = cbgNames.index(line[1])\n",
    "        if fromCBG not in trans_data:\n",
    "            trans_data[fromCBG] = []\n",
    "            trans_data[fromCBG].append([])\n",
    "            trans_data[fromCBG].append([])\n",
    "        trans_data[fromCBG][0].append(toCBG)\n",
    "        trans_data[fromCBG][1].append(float(line[3]))"
   ],
   "outputs": [],
   "execution_count": 8
  },
  {
   "cell_type": "code",
   "id": "e9bd2b7a3676f266",
   "metadata": {
    "ExecuteTime": {
     "end_time": "2024-08-27T22:28:56.335079Z",
     "start_time": "2024-08-27T22:28:56.332904Z"
    }
   },
   "source": [
    "nCBG = len(trans_data)"
   ],
   "outputs": [],
   "execution_count": 9
  },
  {
   "cell_type": "code",
   "id": "69aa10229556aa26",
   "metadata": {
    "ExecuteTime": {
     "end_time": "2024-08-27T22:29:00.157869Z",
     "start_time": "2024-08-27T22:29:00.154971Z"
    }
   },
   "source": [
    "def idx_with_rand_probs(probs):\n",
    "    val = random.random()\n",
    "    cumuProb = 0\n",
    "    for i, prob in enumerate(probs):\n",
    "        cumuProb += prob\n",
    "        if val < cumuProb:\n",
    "            return i\n",
    "    return -1"
   ],
   "outputs": [],
   "execution_count": 10
  },
  {
   "cell_type": "code",
   "id": "11c1619268bb7bc2",
   "metadata": {
    "ExecuteTime": {
     "end_time": "2024-08-27T23:24:58.653533Z",
     "start_time": "2024-08-27T23:24:58.468105Z"
    }
   },
   "source": [
    "population = []\n",
    "for cbg in cbgNames:\n",
    "    population.append(pop_data[pop_data['GeoId'] == int(cbg)]['Population'].item())\n"
   ],
   "outputs": [],
   "execution_count": 71
  },
  {
   "cell_type": "code",
   "id": "b92851e35defe5b8",
   "metadata": {
    "ExecuteTime": {
     "end_time": "2024-08-27T23:27:00.610661Z",
     "start_time": "2024-08-27T23:27:00.606339Z"
    }
   },
   "source": [
    "def initCase(numInitCase, cbgSIR, active_cases, newCaseIdx = None):\n",
    "    if newCaseIdx is None:\n",
    "        newCaseIdx = random.randint(0, nCBG - 1)\n",
    "    \n",
    "    numInitCase = min(numInitCase, cbgSIR['S'][newCaseIdx])\n",
    "    cbgSIR['S'][newCaseIdx] -= numInitCase\n",
    "    cbgSIR['I'][newCaseIdx] += numInitCase\n",
    "    \n",
    "    for _ in range(int(numInitCase)):\n",
    "        active_cases.append([newCaseIdx, 0])\n",
    "    \n",
    "    return numInitCase, newCaseIdx\n",
    "\n",
    "def newCase(cbdIdx, cbgSIR, active_cases):\n",
    "    \n",
    "    srcCBGTrans = trans_data[cbdIdx]\n",
    "    desCBGIdx = idx_with_rand_probs(srcCBGTrans[1])\n",
    "    desCBG = srcCBGTrans[0][desCBGIdx]\n",
    "\n",
    "    active_cases.append([desCBG, 0])\n",
    "    cbgSIR['S'][desCBG] -= 1\n",
    "    cbgSIR['I'][desCBG] += 1\n",
    "    \n",
    "    \n",
    "    if cbgSIR['S'][desCBG] == 0:\n",
    "        srcCBGTrans[0].pop(desCBGIdx)\n",
    "        val = srcCBGTrans[1].pop(desCBGIdx)\n",
    "        val = 1-val\n",
    "        for i in range(len(srcCBGTrans[1])):\n",
    "            srcCBGTrans[1][i] /= val\n",
    "\n",
    "\n"
   ],
   "outputs": [],
   "execution_count": 94
  },
  {
   "cell_type": "code",
   "id": "e968944d5d5d6499",
   "metadata": {
    "ExecuteTime": {
     "end_time": "2024-08-27T23:26:41.249408Z",
     "start_time": "2024-08-27T23:26:41.246421Z"
    }
   },
   "source": [
    "def nextDay(cbgSIR, active_cases):\n",
    "    i = 0\n",
    "    while i < len(active_cases):\n",
    "        case = active_cases[i]\n",
    "        \n",
    "        # Recovered\n",
    "        if case[1] == len(infection_chance_per_day):\n",
    "            cbgIdx = case[0]\n",
    "            cbgSIR['I'][cbgIdx] -= 1\n",
    "            cbgSIR['R'][cbgIdx] += 1\n",
    "\n",
    "            active_cases.pop(i)\n",
    "            # print('Recovered')\n",
    "            continue\n",
    "        \n",
    "        infectionChance = infection_chance_per_day[case[1]]\n",
    "        case[1] += 1\n",
    "        i += 1\n",
    "        \n",
    "        if random.random() > infectionChance:\n",
    "            # print('Unlucky')\n",
    "            continue\n",
    "        \n",
    "        # One new case exist\n",
    "        newCase(case[0], cbgSIR, active_cases)\n",
    "        # print('Infected')\n",
    "        "
   ],
   "outputs": [],
   "execution_count": 93
  },
  {
   "metadata": {
    "ExecuteTime": {
     "end_time": "2024-08-27T23:27:53.588774Z",
     "start_time": "2024-08-27T23:27:53.586003Z"
    }
   },
   "cell_type": "code",
   "source": [
    "def startSimu(numInit, newCaseIdx = None):\n",
    "    active_cases = []\n",
    "    cbgSIR = {'S':np.array(population), 'I':np.zeros(nCBG), 'R':np.zeros(nCBG)}\n",
    "    numInit,newCaseIdx = initCase(numInit, cbgSIR, active_cases,newCaseIdx)\n",
    "    IPerDay = [numInit]\n",
    "    for i in range(30):\n",
    "        nextDay(cbgSIR, active_cases)\n",
    "        IPerDay.append(np.sum(cbgSIR['I']))\n",
    "    plt.plot(IPerDay)\n",
    "    print(newCaseIdx)"
   ],
   "id": "efc24f08f3d981f5",
   "outputs": [],
   "execution_count": 109
  },
  {
   "cell_type": "code",
   "id": "cf8d247345a72dc0",
   "metadata": {
    "ExecuteTime": {
     "end_time": "2024-08-27T23:28:08.133987Z",
     "start_time": "2024-08-27T23:28:07.948836Z"
    }
   },
   "source": "startSimu(10)",
   "outputs": [
    {
     "name": "stdout",
     "output_type": "stream",
     "text": [
      "317\n"
     ]
    },
    {
     "data": {
      "text/plain": [
       "<Figure size 640x480 with 1 Axes>"
      ],
      "image/png": "[encoded data removed]"
     },
     "metadata": {},
     "output_type": "display_data"
    }
   ],
   "execution_count": 115
  },
  {
   "cell_type": "code",
   "execution_count": null,
   "id": "6c0bf1de4bb9130a",
   "metadata": {},
   "outputs": [],
   "source": []
  }
 ],
 "metadata": {
  "kernelspec": {
   "display_name": "Python 3 (ipykernel)",
   "language": "python",
   "name": "python3"
  },
  "language_info": {
   "codemirror_mode": {
    "name": "ipython",
    "version": 3
   },
   "file_extension": ".py",
   "mimetype": "text/x-python",
   "name": "python",
   "nbconvert_exporter": "python",
   "pygments_lexer": "ipython3",
   "version": "3.12.4"
  }
 },
 "nbformat": 4,
 "nbformat_minor": 5
}
