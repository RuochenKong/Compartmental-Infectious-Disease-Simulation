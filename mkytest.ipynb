{
 "cells": [
  {
   "cell_type": "code",
   "id": "22172fe8b0bb2d9f",
   "metadata": {
    "ExecuteTime": {
     "end_time": "2024-09-03T16:39:10.137909Z",
     "start_time": "2024-09-03T16:39:09.553868Z"
    }
   },
   "source": [
    "import os\n",
    "import numpy as np\n",
    "import pandas as pd\n",
    "import matplotlib.pyplot as plt\n",
    "import random"
   ],
   "outputs": [],
   "execution_count": 2
  },
  {
   "metadata": {
    "ExecuteTime": {
     "end_time": "2024-09-03T16:39:10.150038Z",
     "start_time": "2024-09-03T16:39:10.147153Z"
    }
   },
   "cell_type": "code",
   "source": [
    "if not os.path.exists('output_data'):\n",
    "    os.mkdir('output_data')"
   ],
   "id": "16593217f059820a",
   "outputs": [],
   "execution_count": 3
  },
  {
   "cell_type": "code",
   "id": "c58e8182d2b61b14",
   "metadata": {
    "ExecuteTime": {
     "end_time": "2024-09-03T16:39:11.076072Z",
     "start_time": "2024-09-03T16:39:11.064439Z"
    }
   },
   "source": [
    "RAW_FILE = 'src_data/mpox_pgraph.csv'\n",
    "pop_data = pd.read_csv('src_data/fairfax_population.csv')\n",
    "infection_chance_per_day=[0.2,0.3,0.2,0.1,0.1,0.1,0.1,0.1] #1.2\n",
    "cbgNames = set()\n",
    "trans_data = {}"
   ],
   "outputs": [],
   "execution_count": 4
  },
  {
   "cell_type": "code",
   "id": "46259634910f6d6c",
   "metadata": {
    "ExecuteTime": {
     "end_time": "2024-09-03T16:39:11.770518Z",
     "start_time": "2024-09-03T16:39:11.740962Z"
    }
   },
   "source": [
    "isheader = True\n",
    "with open(RAW_FILE, 'r') as f:\n",
    "    for line in f.readlines():\n",
    "        if isheader:\n",
    "            isheader = False\n",
    "            continue\n",
    "        cbgNames.add(line.strip().split(',')[0])\n",
    "cbgNames = list(cbgNames)"
   ],
   "outputs": [],
   "execution_count": 5
  },
  {
   "cell_type": "code",
   "id": "c1d7a816f1d83c6a",
   "metadata": {
    "ExecuteTime": {
     "end_time": "2024-09-03T16:39:13.122060Z",
     "start_time": "2024-09-03T16:39:12.476890Z"
    }
   },
   "source": [
    "isheader = True\n",
    "with open(RAW_FILE, 'r') as f:\n",
    "    for line in f.readlines():\n",
    "        if isheader:\n",
    "            isheader = False\n",
    "            continue\n",
    "        \n",
    "        line = line.strip().split(',')\n",
    "        fromCBG = cbgNames.index(line[0])\n",
    "        toCBG = cbgNames.index(line[1])\n",
    "        if fromCBG not in trans_data:\n",
    "            trans_data[fromCBG] = []\n",
    "            trans_data[fromCBG].append([])\n",
    "            trans_data[fromCBG].append([])\n",
    "        trans_data[fromCBG][0].append(toCBG)\n",
    "        trans_data[fromCBG][1].append(float(line[3]))"
   ],
   "outputs": [],
   "execution_count": 6
  },
  {
   "cell_type": "code",
   "id": "e9bd2b7a3676f266",
   "metadata": {
    "ExecuteTime": {
     "end_time": "2024-08-29T21:35:07.450810Z",
     "start_time": "2024-08-29T21:35:07.448056Z"
    }
   },
   "source": [
    "nCBG = len(trans_data)"
   ],
   "outputs": [],
   "execution_count": 6
  },
  {
   "cell_type": "code",
   "id": "69aa10229556aa26",
   "metadata": {
    "ExecuteTime": {
     "end_time": "2024-08-29T21:36:29.764256Z",
     "start_time": "2024-08-29T21:36:29.761996Z"
    }
   },
   "source": [
    "def idx_with_rand_probs(probs):\n",
    "    val = random.random()\n",
    "    cumuProb = 0\n",
    "    for i, prob in enumerate(probs):\n",
    "        cumuProb += prob\n",
    "        if val < cumuProb:\n",
    "            return i\n",
    "    print('-1')\n",
    "    return -1"
   ],
   "outputs": [],
   "execution_count": 7
  },
  {
   "cell_type": "code",
   "id": "11c1619268bb7bc2",
   "metadata": {
    "ExecuteTime": {
     "end_time": "2024-08-29T21:35:08.957923Z",
     "start_time": "2024-08-29T21:35:08.868183Z"
    }
   },
   "source": [
    "population = []\n",
    "for cbg in cbgNames:\n",
    "    population.append(pop_data[pop_data['GeoId'] == int(cbg)]['Population'].item())\n"
   ],
   "outputs": [],
   "execution_count": 8
  },
  {
   "cell_type": "code",
   "id": "b92851e35defe5b8",
   "metadata": {
    "ExecuteTime": {
     "end_time": "2024-08-29T22:08:04.959256Z",
     "start_time": "2024-08-29T22:08:04.955062Z"
    }
   },
   "source": [
    "def initCase(numInitCase, cbgSIR, active_cases, newCaseIdx = None):\n",
    "    if newCaseIdx is None:\n",
    "        newCaseIdx = random.randint(0, nCBG - 1)\n",
    "    \n",
    "    numInitCase = min(numInitCase, cbgSIR['S'][-1][newCaseIdx])\n",
    "    cbgSIR['S'][-1][newCaseIdx] -= numInitCase\n",
    "    cbgSIR['I'][-1][newCaseIdx] += numInitCase\n",
    "    \n",
    "    for _ in range(int(numInitCase)):\n",
    "        active_cases.append([newCaseIdx, 0])\n",
    "    \n",
    "    return numInitCase, newCaseIdx\n",
    "\n",
    "def newCase(cbdIdx, cbgSIR, active_cases):\n",
    "    \n",
    "    srcCBGTrans = trans_data[cbdIdx]\n",
    "    desCBGIdx = idx_with_rand_probs(srcCBGTrans[1])\n",
    "    if desCBGIdx == -1:\n",
    "        'The destination end with Susceptible'\n",
    "        return\n",
    "    desCBG = srcCBGTrans[0][desCBGIdx]\n",
    "\n",
    "    active_cases.append([desCBG, 0])\n",
    "    cbgSIR['S'][-1][desCBG] -= 1\n",
    "    cbgSIR['I'][-1][desCBG] += 1\n",
    "    \n",
    "    \n",
    "    if cbgSIR['S'][-1][desCBG] == 0:\n",
    "        srcCBGTrans[0].pop(desCBGIdx)\n",
    "        val = srcCBGTrans[1].pop(desCBGIdx)\n",
    "        val = 1-val\n",
    "        for i in range(len(srcCBGTrans[1])):\n",
    "            srcCBGTrans[1][i] /= val\n",
    "\n",
    "\n"
   ],
   "outputs": [],
   "execution_count": 9
  },
  {
   "cell_type": "code",
   "id": "e968944d5d5d6499",
   "metadata": {
    "ExecuteTime": {
     "end_time": "2024-08-29T21:35:10.908429Z",
     "start_time": "2024-08-29T21:35:10.904928Z"
    }
   },
   "source": [
    "def nextDay(cbgSIR, active_cases):\n",
    "    # Copy the latest SIR array\n",
    "    for k in cbgSIR.keys():\n",
    "        cbgSIR[k].append(np.copy(cbgSIR[k][-1]))\n",
    "    \n",
    "    i = 0\n",
    "    while i < len(active_cases):\n",
    "        case = active_cases[i]\n",
    "        \n",
    "        # Recovered\n",
    "        if case[1] == len(infection_chance_per_day):\n",
    "            cbgIdx = case[0]\n",
    "            cbgSIR['I'][-1][cbgIdx] -= 1\n",
    "            cbgSIR['R'][-1][cbgIdx] += 1\n",
    "\n",
    "            active_cases.pop(i)\n",
    "            # print('Recovered')\n",
    "            continue\n",
    "        \n",
    "        infectionChance = infection_chance_per_day[case[1]]\n",
    "        case[1] += 1\n",
    "        i += 1\n",
    "        \n",
    "        if random.random() > infectionChance:\n",
    "            # print('Unlucky')\n",
    "            continue\n",
    "        \n",
    "        # One new case exist\n",
    "        newCase(case[0], cbgSIR, active_cases)\n",
    "        # print('Infected')\n",
    "    "
   ],
   "outputs": [],
   "execution_count": 10
  },
  {
   "metadata": {
    "ExecuteTime": {
     "end_time": "2024-08-29T22:41:01.819107Z",
     "start_time": "2024-08-29T22:41:01.812862Z"
    }
   },
   "cell_type": "code",
   "source": [
    "def startSimu(listNumInit, listIdxInit, simu_day=30, output_dir = None):\n",
    "    active_cases = []\n",
    "    cbgSIR = {'S':[np.array(population, dtype=int)], 'I':[np.zeros(nCBG, dtype=int)], 'R':[np.zeros(nCBG, dtype=int)]}\n",
    "    listSucInit = []\n",
    "    for numInit,idxInit in zip(listNumInit, listIdxInit):\n",
    "        numInit,idxInit = initCase(numInit, cbgSIR, active_cases,idxInit)\n",
    "        listSucInit.append((numInit,idxInit))\n",
    "    \n",
    "    print(len(active_cases))\n",
    "    IPerDay = [sum(listNumInit)]\n",
    "    for i in range(simu_day):\n",
    "        nextDay(cbgSIR, active_cases)\n",
    "        IPerDay.append(np.sum(cbgSIR['I'][-1]))\n",
    "    plt.plot(IPerDay)\n",
    "    print(listSucInit)\n",
    "    \n",
    "    if output_dir is not None:\n",
    "        print('Saving results')\n",
    "        out_path = 'output_data/%s/'%output_dir\n",
    "        if not os.path.exists(out_path):\n",
    "            os.mkdir(out_path)\n",
    "        fullname = {'S':'susceptible', 'I':'infectious', 'R':'recovered'}\n",
    "        for key in cbgSIR.keys():\n",
    "            filename = '%s%s.csv'%(out_path, fullname[key])\n",
    "            with open(filename, 'w') as fout:\n",
    "                for daily_data in cbgSIR[key]:\n",
    "                    for val in daily_data[:-1]:\n",
    "                        fout.write('%d,'%val)\n",
    "                    fout.write('%d\\n'%daily_data[-1])\n",
    "        \n",
    "        with open('%smeta'%out_path, 'w') as fout:\n",
    "            fout.write('Initial Cases (CBG, Number):\\n')\n",
    "            \n",
    "            for num,idx in listSucInit:\n",
    "                fout.write('\\t%s, %d\\n'%(cbgNames[idx], num))\n",
    "\n",
    "            fout.write('Days of Simulation: %d\\n'%simu_day)\n",
    "            fout.write('R_0: %.1f\\n'%sum(infection_chance_per_day))\n",
    "            fout.write('R_0 breaks out in Days: ')\n",
    "            for val in infection_chance_per_day:\n",
    "                fout.write('%.1f '%val)\n",
    "            fout.write('\\n')"
   ],
   "id": "efc24f08f3d981f5",
   "outputs": [],
   "execution_count": 17
  },
  {
   "cell_type": "code",
   "id": "cf8d247345a72dc0",
   "metadata": {
    "ExecuteTime": {
     "end_time": "2024-08-29T22:41:28.644345Z",
     "start_time": "2024-08-29T22:41:28.529443Z"
    }
   },
   "source": [
    "# initCBG = [random.randint(0,nCBG-1) for _ in range(5)]\n",
    "# initNum = [10,50,30,10,20]\n",
    "\n",
    "initCBG = [random.randint(0,nCBG-1)]\n",
    "initNum = [10]\n",
    "startSimu(initNum, initCBG ,output_dir='test')"
   ],
   "outputs": [
    {
     "name": "stdout",
     "output_type": "stream",
     "text": [
      "10\n",
      "[(10, 342)]\n",
      "Saving results\n"
     ]
    },
    {
     "data": {
      "text/plain": "<Figure size 432x288 with 1 Axes>",
      "image/png": "[encoded data removed]"
     },
     "metadata": {
      "needs_background": "light"
     },
     "output_type": "display_data"
    }
   ],
   "execution_count": 23
  },
  {
   "metadata": {
    "ExecuteTime": {
     "end_time": "2024-08-29T22:39:55.547933Z",
     "start_time": "2024-08-29T22:39:55.385288Z"
    }
   },
   "cell_type": "code",
   "source": [
    "data = pd.read_csv('output_data/test/infectious.csv').to_numpy()\n",
    "plt.figure()\n",
    "sums = data.sum(axis=0)\n",
    "count = 0\n",
    "for i in range(nCBG):\n",
    "    if sums[i] == 0:\n",
    "        count += 1\n",
    "        continue\n",
    "    plt.plot(data[:,i])\n",
    "print('Num of uninfected CBGs: %d'%count)"
   ],
   "id": "77d47dc2d30d1865",
   "outputs": [
    {
     "name": "stdout",
     "output_type": "stream",
     "text": [
      "Num of uninfected CBGs: 574\n"
     ]
    },
    {
     "data": {
      "text/plain": "<Figure size 432x288 with 1 Axes>",
      "image/png": "[encoded data removed]"
     },
     "metadata": {
      "needs_background": "light"
     },
     "output_type": "display_data"
    }
   ],
   "execution_count": 24
  },
  {
   "metadata": {},
   "cell_type": "code",
   "outputs": [],
   "execution_count": null,
   "source": [],
   "id": "ad3f86cdc1da5887"
  }
 ],
 "metadata": {
  "kernelspec": {
   "display_name": "Python 3 (ipykernel)",
   "language": "python",
   "name": "python3"
  },
  "language_info": {
   "codemirror_mode": {
    "name": "ipython",
    "version": 3
   },
   "file_extension": ".py",
   "mimetype": "text/x-python",
   "name": "python",
   "nbconvert_exporter": "python",
   "pygments_lexer": "ipython3",
   "version": "3.12.4"
  }
 },
 "nbformat": 4,
 "nbformat_minor": 5
}
