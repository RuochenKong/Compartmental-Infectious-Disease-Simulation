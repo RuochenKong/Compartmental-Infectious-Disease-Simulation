{
 "cells": [
  {
   "cell_type": "code",
   "execution_count": 28,
   "id": "22172fe8b0bb2d9f",
   "metadata": {
    "ExecuteTime": {
     "end_time": "2024-08-22T21:30:46.771059Z",
     "start_time": "2024-08-22T21:30:46.768380Z"
    }
   },
   "outputs": [],
   "source": [
    "import os\n",
    "import numpy as np\n",
    "import matplotlib.pyplot as plt\n",
    "import random"
   ]
  },
  {
   "cell_type": "code",
   "execution_count": 11,
   "id": "c58e8182d2b61b14",
   "metadata": {
    "ExecuteTime": {
     "end_time": "2024-08-22T21:25:03.128185Z",
     "start_time": "2024-08-22T21:25:03.122848Z"
    }
   },
   "outputs": [],
   "source": [
    "RAW_FILE = 'src_data/mpox_pgraph.csv'\n",
    "infection_chance_per_day=[0.2,0.3,0.2,0.1]\n",
    "cbgNames = set()\n",
    "trans_data = {}"
   ]
  },
  {
   "cell_type": "code",
   "execution_count": 13,
   "id": "46259634910f6d6c",
   "metadata": {
    "ExecuteTime": {
     "end_time": "2024-08-22T21:25:47.256534Z",
     "start_time": "2024-08-22T21:25:47.230699Z"
    }
   },
   "outputs": [],
   "source": [
    "isheader = True\n",
    "with open(RAW_FILE, 'r') as f:\n",
    "    for line in f.readlines():\n",
    "        if isheader:\n",
    "            isheader = False\n",
    "            continue\n",
    "        cbgNames.add(line.strip().split(',')[0])\n",
    "cbgNames = list(cbgNames)"
   ]
  },
  {
   "cell_type": "code",
   "execution_count": 14,
   "id": "c1d7a816f1d83c6a",
   "metadata": {
    "ExecuteTime": {
     "end_time": "2024-08-22T21:26:48.469066Z",
     "start_time": "2024-08-22T21:26:47.565710Z"
    }
   },
   "outputs": [],
   "source": [
    "isheader = True\n",
    "with open(RAW_FILE, 'r') as f:\n",
    "    for line in f.readlines():\n",
    "        if isheader:\n",
    "            isheader = False\n",
    "            continue\n",
    "        \n",
    "        line = line.strip().split(',')\n",
    "        fromCBG = cbgNames.index(line[0])\n",
    "        toCBG = cbgNames.index(line[1])\n",
    "        if fromCBG not in trans_data:\n",
    "            trans_data[fromCBG] = []\n",
    "            trans_data[fromCBG].append([])\n",
    "            trans_data[fromCBG].append([])\n",
    "        trans_data[fromCBG][0].append(toCBG)\n",
    "        trans_data[fromCBG][1].append(float(line[3]))"
   ]
  },
  {
   "cell_type": "code",
   "execution_count": 15,
   "id": "e9bd2b7a3676f266",
   "metadata": {
    "ExecuteTime": {
     "end_time": "2024-08-22T21:26:55.901236Z",
     "start_time": "2024-08-22T21:26:55.899132Z"
    }
   },
   "outputs": [],
   "source": [
    "nCBG = len(trans_data)"
   ]
  },
  {
   "cell_type": "code",
   "execution_count": 16,
   "id": "69aa10229556aa26",
   "metadata": {
    "ExecuteTime": {
     "end_time": "2024-08-22T21:26:58.298766Z",
     "start_time": "2024-08-22T21:26:58.294200Z"
    }
   },
   "outputs": [],
   "source": [
    "def idx_with_rand_probs(probs):\n",
    "    val = random.random()\n",
    "    cumuProb = 0\n",
    "    for i, prob in enumerate(probs):\n",
    "        cumuProb += prob\n",
    "        if val < cumuProb:\n",
    "            return i\n",
    "    return -1"
   ]
  },
  {
   "cell_type": "code",
   "execution_count": 17,
   "id": "11c1619268bb7bc2",
   "metadata": {
    "ExecuteTime": {
     "end_time": "2024-08-22T21:28:02.826443Z",
     "start_time": "2024-08-22T21:28:02.823553Z"
    }
   },
   "outputs": [],
   "source": [
    "active_cases = []\n",
    "cbgSIR = {'S':np.ones(nCBG)*10000, 'I':np.zeros(nCBG), 'R':np.zeros(nCBG)}"
   ]
  },
  {
   "cell_type": "code",
   "execution_count": 63,
   "id": "b92851e35defe5b8",
   "metadata": {
    "ExecuteTime": {
     "end_time": "2024-08-22T21:42:23.483434Z",
     "start_time": "2024-08-22T21:42:23.480716Z"
    }
   },
   "outputs": [],
   "source": [
    "def initCase():\n",
    "    newCaseIdx = random.randint(0, nCBG - 1)\n",
    "    active_cases.append([newCaseIdx, 0])\n",
    "    cbgSIR['S'][newCaseIdx] -= 1\n",
    "    cbgSIR['I'][newCaseIdx] += 1"
   ]
  },
  {
   "cell_type": "code",
   "execution_count": 77,
   "id": "e968944d5d5d6499",
   "metadata": {
    "ExecuteTime": {
     "end_time": "2024-08-22T21:48:30.980096Z",
     "start_time": "2024-08-22T21:48:30.975982Z"
    }
   },
   "outputs": [],
   "source": [
    "def nextDay():\n",
    "    i = 0\n",
    "    while i < len(active_cases):\n",
    "        print(active_cases)\n",
    "        case = active_cases[i]\n",
    "        # Recovered\n",
    "        if case[1] == len(infection_chance_per_day):\n",
    "            cbgIdx = case[0]\n",
    "            cbgSIR['I'][cbgIdx] -= 1\n",
    "            cbgSIR['R'][cbgIdx] += 1\n",
    "\n",
    "            active_cases.pop(i)\n",
    "            print('Recovered')\n",
    "            continue\n",
    "        \n",
    "        \n",
    "        infectionChance = infection_chance_per_day[case[1]]\n",
    "        case[1] += 1\n",
    "        i += 1\n",
    "        \n",
    "        if random.random() > infectionChance:\n",
    "            print('Unlucky')\n",
    "            continue\n",
    "        \n",
    "        # One new case exist\n",
    "        srcCBGTrans = trans_data[case[0]]\n",
    "        desCBGIdx = idx_with_rand_probs(srcCBGTrans[1])\n",
    "        desCBG = srcCBGTrans[0][desCBGIdx]\n",
    "\n",
    "        active_cases.append([desCBG, 0])\n",
    "        cbgSIR['S'][desCBG] -= 1\n",
    "        cbgSIR['I'][desCBG] += 1\n",
    "        \n",
    "        print('Infected')\n",
    "        "
   ]
  },
  {
   "cell_type": "code",
   "execution_count": 79,
   "id": "cf8d247345a72dc0",
   "metadata": {
    "ExecuteTime": {
     "end_time": "2024-08-22T21:48:47.029279Z",
     "start_time": "2024-08-22T21:48:46.945004Z"
    }
   },
   "outputs": [
    {
     "name": "stdout",
     "output_type": "stream",
     "text": [
      "[[360, 0]]\n",
      "Infected\n",
      "[[360, 1], [387, 0]]\n",
      "Unlucky\n",
      "[[360, 1], [387, 1]]\n",
      "Unlucky\n",
      "[[360, 2], [387, 1]]\n",
      "Infected\n",
      "[[360, 2], [387, 2], [414, 0]]\n",
      "Infected\n",
      "[[360, 2], [387, 2], [414, 1], [414, 0]]\n",
      "Unlucky\n",
      "[[360, 2], [387, 2], [414, 1], [414, 1]]\n",
      "Infected\n",
      "[[360, 3], [387, 2], [414, 1], [414, 1], [414, 0]]\n",
      "Infected\n",
      "[[360, 3], [387, 3], [414, 1], [414, 1], [414, 0], [434, 0]]\n",
      "Unlucky\n",
      "[[360, 3], [387, 3], [414, 2], [414, 1], [414, 0], [434, 0]]\n",
      "Unlucky\n",
      "[[360, 3], [387, 3], [414, 2], [414, 2], [414, 0], [434, 0]]\n",
      "Unlucky\n",
      "[[360, 3], [387, 3], [414, 2], [414, 2], [414, 1], [434, 0]]\n",
      "Unlucky\n",
      "[[360, 3], [387, 3], [414, 2], [414, 2], [414, 1], [434, 1]]\n",
      "Unlucky\n",
      "[[360, 4], [387, 3], [414, 2], [414, 2], [414, 1], [434, 1]]\n",
      "Unlucky\n",
      "[[360, 4], [387, 4], [414, 2], [414, 2], [414, 1], [434, 1]]\n",
      "Unlucky\n",
      "[[360, 4], [387, 4], [414, 3], [414, 2], [414, 1], [434, 1]]\n",
      "Unlucky\n",
      "[[360, 4], [387, 4], [414, 3], [414, 3], [414, 1], [434, 1]]\n",
      "Unlucky\n",
      "[[360, 4], [387, 4], [414, 3], [414, 3], [414, 2], [434, 1]]\n",
      "Unlucky\n",
      "[[360, 4], [387, 4], [414, 3], [414, 3], [414, 2], [434, 2]]\n",
      "Recovered\n",
      "[[387, 4], [414, 3], [414, 3], [414, 2], [434, 2]]\n",
      "Recovered\n",
      "[[414, 3], [414, 3], [414, 2], [434, 2]]\n",
      "Unlucky\n",
      "[[414, 4], [414, 3], [414, 2], [434, 2]]\n",
      "Unlucky\n",
      "[[414, 4], [414, 4], [414, 2], [434, 2]]\n",
      "Unlucky\n",
      "[[414, 4], [414, 4], [414, 3], [434, 2]]\n",
      "Unlucky\n",
      "[[414, 4], [414, 4], [414, 3], [434, 3]]\n",
      "Recovered\n",
      "[[414, 4], [414, 3], [434, 3]]\n",
      "Recovered\n",
      "[[414, 3], [434, 3]]\n",
      "Unlucky\n",
      "[[414, 4], [434, 3]]\n",
      "Unlucky\n",
      "[[414, 4], [434, 4]]\n",
      "Recovered\n",
      "[[434, 4]]\n",
      "Recovered\n"
     ]
    },
    {
     "data": {
      "text/plain": [
       "[<matplotlib.lines.Line2D at 0x7846c3b5f3e0>]"
      ]
     },
     "execution_count": 79,
     "metadata": {},
     "output_type": "execute_result"
    },
    {
     "data": {
      "image/png": "[encoded data removed]",
      "text/plain": [
       "<Figure size 640x480 with 1 Axes>"
      ]
     },
     "metadata": {},
     "output_type": "display_data"
    }
   ],
   "source": [
    "IPerDay = []\n",
    "\n",
    "days = [0]\n",
    "\n",
    "initCase()\n",
    "    \n",
    "IPerDay.append(1)\n",
    "for i in range(30):\n",
    "    nextDay()\n",
    "    IPerDay.append(np.sum(cbgSIR['I']))\n",
    "    \n",
    "    days.append(i+1)\n",
    "plt.plot(days, IPerDay)\n"
   ]
  },
  {
   "cell_type": "code",
   "execution_count": null,
   "id": "6c0bf1de4bb9130a",
   "metadata": {},
   "outputs": [],
   "source": []
  }
 ],
 "metadata": {
  "kernelspec": {
   "display_name": "Python 3 (ipykernel)",
   "language": "python",
   "name": "python3"
  },
  "language_info": {
   "codemirror_mode": {
    "name": "ipython",
    "version": 3
   },
   "file_extension": ".py",
   "mimetype": "text/x-python",
   "name": "python",
   "nbconvert_exporter": "python",
   "pygments_lexer": "ipython3",
   "version": "3.12.4"
  }
 },
 "nbformat": 4,
 "nbformat_minor": 5
}
